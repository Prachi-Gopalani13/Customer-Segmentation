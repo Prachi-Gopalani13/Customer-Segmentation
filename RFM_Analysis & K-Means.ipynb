{
  "nbformat": 4,
  "nbformat_minor": 0,
  "metadata": {
    "accelerator": "GPU",
    "colab": {
      "name": "RFM_Analysis_Final.ipynb",
      "provenance": [],
      "collapsed_sections": []
    },
    "kernelspec": {
      "display_name": "Python 3",
      "language": "python",
      "name": "python3"
    },
    "language_info": {
      "codemirror_mode": {
        "name": "ipython",
        "version": 3
      },
      "file_extension": ".py",
      "mimetype": "text/x-python",
      "name": "python",
      "nbconvert_exporter": "python",
      "pygments_lexer": "ipython3",
      "version": "3.8.3"
    }
  },
  "cells": [
    {
      "cell_type": "code",
      "metadata": {
        "id": "5nlvtkQ-2R0J"
      },
      "source": [
        "import pandas as pd\n",
        "import numpy as np\n",
        "import matplotlib.pyplot as plt\n",
        "import seaborn as sns \n",
        "from sklearn.preprocessing import StandardScaler"
      ],
      "execution_count": 2,
      "outputs": []
    },
    {
      "cell_type": "code",
      "metadata": {
        "colab": {
          "base_uri": "https://localhost:8080/"
        },
        "id": "6aO3jvZO38Gl",
        "outputId": "6d1f9ddc-1bd6-4b7a-a725-24bb5e1994cf"
      },
      "source": [
        "from google.colab import drive\n",
        "drive.mount('/content/drive')"
      ],
      "execution_count": 3,
      "outputs": [
        {
          "output_type": "stream",
          "text": [
            "Mounted at /content/drive\n"
          ],
          "name": "stdout"
        }
      ]
    },
    {
      "cell_type": "markdown",
      "metadata": {
        "id": "6vWPs_Z32R0L"
      },
      "source": [
        "# Loading Dataset"
      ]
    },
    {
      "cell_type": "code",
      "metadata": {
        "colab": {
          "base_uri": "https://localhost:8080/",
          "height": 196
        },
        "id": "REvzGqdf2R0L",
        "outputId": "672533c5-f120-453e-ec72-6372af8fb5c2"
      },
      "source": [
        "df = pd.read_csv('/content/drive/MyDrive/Projects/CustomerSegementation/data.csv')\n",
        "df.head()"
      ],
      "execution_count": 4,
      "outputs": [
        {
          "output_type": "execute_result",
          "data": {
            "text/html": [
              "<div>\n",
              "<style scoped>\n",
              "    .dataframe tbody tr th:only-of-type {\n",
              "        vertical-align: middle;\n",
              "    }\n",
              "\n",
              "    .dataframe tbody tr th {\n",
              "        vertical-align: top;\n",
              "    }\n",
              "\n",
              "    .dataframe thead th {\n",
              "        text-align: right;\n",
              "    }\n",
              "</style>\n",
              "<table border=\"1\" class=\"dataframe\">\n",
              "  <thead>\n",
              "    <tr style=\"text-align: right;\">\n",
              "      <th></th>\n",
              "      <th>InvoiceNo</th>\n",
              "      <th>StockCode</th>\n",
              "      <th>Description</th>\n",
              "      <th>Quantity</th>\n",
              "      <th>InvoiceDate</th>\n",
              "      <th>UnitPrice</th>\n",
              "      <th>CustomerID</th>\n",
              "      <th>Country</th>\n",
              "    </tr>\n",
              "  </thead>\n",
              "  <tbody>\n",
              "    <tr>\n",
              "      <th>0</th>\n",
              "      <td>536365</td>\n",
              "      <td>85123A</td>\n",
              "      <td>WHITE HANGING HEART T-LIGHT HOLDER</td>\n",
              "      <td>6</td>\n",
              "      <td>12-01-2010 08:26</td>\n",
              "      <td>2.55</td>\n",
              "      <td>17850.0</td>\n",
              "      <td>United Kingdom</td>\n",
              "    </tr>\n",
              "    <tr>\n",
              "      <th>1</th>\n",
              "      <td>536365</td>\n",
              "      <td>71053</td>\n",
              "      <td>WHITE METAL LANTERN</td>\n",
              "      <td>6</td>\n",
              "      <td>12-01-2010 08:26</td>\n",
              "      <td>3.39</td>\n",
              "      <td>17850.0</td>\n",
              "      <td>United Kingdom</td>\n",
              "    </tr>\n",
              "    <tr>\n",
              "      <th>2</th>\n",
              "      <td>536365</td>\n",
              "      <td>84406B</td>\n",
              "      <td>CREAM CUPID HEARTS COAT HANGER</td>\n",
              "      <td>8</td>\n",
              "      <td>12-01-2010 08:26</td>\n",
              "      <td>2.75</td>\n",
              "      <td>17850.0</td>\n",
              "      <td>United Kingdom</td>\n",
              "    </tr>\n",
              "    <tr>\n",
              "      <th>3</th>\n",
              "      <td>536365</td>\n",
              "      <td>84029G</td>\n",
              "      <td>KNITTED UNION FLAG HOT WATER BOTTLE</td>\n",
              "      <td>6</td>\n",
              "      <td>12-01-2010 08:26</td>\n",
              "      <td>3.39</td>\n",
              "      <td>17850.0</td>\n",
              "      <td>United Kingdom</td>\n",
              "    </tr>\n",
              "    <tr>\n",
              "      <th>4</th>\n",
              "      <td>536365</td>\n",
              "      <td>84029E</td>\n",
              "      <td>RED WOOLLY HOTTIE WHITE HEART.</td>\n",
              "      <td>6</td>\n",
              "      <td>12-01-2010 08:26</td>\n",
              "      <td>3.39</td>\n",
              "      <td>17850.0</td>\n",
              "      <td>United Kingdom</td>\n",
              "    </tr>\n",
              "  </tbody>\n",
              "</table>\n",
              "</div>"
            ],
            "text/plain": [
              "  InvoiceNo StockCode  ... CustomerID         Country\n",
              "0    536365    85123A  ...    17850.0  United Kingdom\n",
              "1    536365     71053  ...    17850.0  United Kingdom\n",
              "2    536365    84406B  ...    17850.0  United Kingdom\n",
              "3    536365    84029G  ...    17850.0  United Kingdom\n",
              "4    536365    84029E  ...    17850.0  United Kingdom\n",
              "\n",
              "[5 rows x 8 columns]"
            ]
          },
          "metadata": {
            "tags": []
          },
          "execution_count": 4
        }
      ]
    },
    {
      "cell_type": "code",
      "metadata": {
        "colab": {
          "base_uri": "https://localhost:8080/"
        },
        "id": "0YLZ1COJ2R0M",
        "outputId": "7fbe3e16-d70d-4a1f-972c-88b63512dc8c"
      },
      "source": [
        "df.info()"
      ],
      "execution_count": 5,
      "outputs": [
        {
          "output_type": "stream",
          "text": [
            "<class 'pandas.core.frame.DataFrame'>\n",
            "RangeIndex: 541909 entries, 0 to 541908\n",
            "Data columns (total 8 columns):\n",
            " #   Column       Non-Null Count   Dtype  \n",
            "---  ------       --------------   -----  \n",
            " 0   InvoiceNo    541909 non-null  object \n",
            " 1   StockCode    541909 non-null  object \n",
            " 2   Description  540455 non-null  object \n",
            " 3   Quantity     541909 non-null  int64  \n",
            " 4   InvoiceDate  541909 non-null  object \n",
            " 5   UnitPrice    541909 non-null  float64\n",
            " 6   CustomerID   406829 non-null  float64\n",
            " 7   Country      541909 non-null  object \n",
            "dtypes: float64(2), int64(1), object(5)\n",
            "memory usage: 33.1+ MB\n"
          ],
          "name": "stdout"
        }
      ]
    },
    {
      "cell_type": "code",
      "metadata": {
        "colab": {
          "base_uri": "https://localhost:8080/",
          "height": 286
        },
        "id": "e8WAJRnF2R0M",
        "outputId": "5bbd4942-9ed7-44ae-9089-9a657ef66c86"
      },
      "source": [
        "df.describe()"
      ],
      "execution_count": 6,
      "outputs": [
        {
          "output_type": "execute_result",
          "data": {
            "text/html": [
              "<div>\n",
              "<style scoped>\n",
              "    .dataframe tbody tr th:only-of-type {\n",
              "        vertical-align: middle;\n",
              "    }\n",
              "\n",
              "    .dataframe tbody tr th {\n",
              "        vertical-align: top;\n",
              "    }\n",
              "\n",
              "    .dataframe thead th {\n",
              "        text-align: right;\n",
              "    }\n",
              "</style>\n",
              "<table border=\"1\" class=\"dataframe\">\n",
              "  <thead>\n",
              "    <tr style=\"text-align: right;\">\n",
              "      <th></th>\n",
              "      <th>Quantity</th>\n",
              "      <th>UnitPrice</th>\n",
              "      <th>CustomerID</th>\n",
              "    </tr>\n",
              "  </thead>\n",
              "  <tbody>\n",
              "    <tr>\n",
              "      <th>count</th>\n",
              "      <td>541909.000000</td>\n",
              "      <td>541909.000000</td>\n",
              "      <td>406829.000000</td>\n",
              "    </tr>\n",
              "    <tr>\n",
              "      <th>mean</th>\n",
              "      <td>9.552250</td>\n",
              "      <td>4.611114</td>\n",
              "      <td>15287.690570</td>\n",
              "    </tr>\n",
              "    <tr>\n",
              "      <th>std</th>\n",
              "      <td>218.081158</td>\n",
              "      <td>96.759853</td>\n",
              "      <td>1713.600303</td>\n",
              "    </tr>\n",
              "    <tr>\n",
              "      <th>min</th>\n",
              "      <td>-80995.000000</td>\n",
              "      <td>-11062.060000</td>\n",
              "      <td>12346.000000</td>\n",
              "    </tr>\n",
              "    <tr>\n",
              "      <th>25%</th>\n",
              "      <td>1.000000</td>\n",
              "      <td>1.250000</td>\n",
              "      <td>13953.000000</td>\n",
              "    </tr>\n",
              "    <tr>\n",
              "      <th>50%</th>\n",
              "      <td>3.000000</td>\n",
              "      <td>2.080000</td>\n",
              "      <td>15152.000000</td>\n",
              "    </tr>\n",
              "    <tr>\n",
              "      <th>75%</th>\n",
              "      <td>10.000000</td>\n",
              "      <td>4.130000</td>\n",
              "      <td>16791.000000</td>\n",
              "    </tr>\n",
              "    <tr>\n",
              "      <th>max</th>\n",
              "      <td>80995.000000</td>\n",
              "      <td>38970.000000</td>\n",
              "      <td>18287.000000</td>\n",
              "    </tr>\n",
              "  </tbody>\n",
              "</table>\n",
              "</div>"
            ],
            "text/plain": [
              "            Quantity      UnitPrice     CustomerID\n",
              "count  541909.000000  541909.000000  406829.000000\n",
              "mean        9.552250       4.611114   15287.690570\n",
              "std       218.081158      96.759853    1713.600303\n",
              "min    -80995.000000  -11062.060000   12346.000000\n",
              "25%         1.000000       1.250000   13953.000000\n",
              "50%         3.000000       2.080000   15152.000000\n",
              "75%        10.000000       4.130000   16791.000000\n",
              "max     80995.000000   38970.000000   18287.000000"
            ]
          },
          "metadata": {
            "tags": []
          },
          "execution_count": 6
        }
      ]
    },
    {
      "cell_type": "markdown",
      "metadata": {
        "id": "IUOyYvnGFTda"
      },
      "source": [
        "## Data Wrangling"
      ]
    },
    {
      "cell_type": "code",
      "metadata": {
        "id": "Kot5BRnIFOdm"
      },
      "source": [
        "df['InvoiceDate'] = pd.to_datetime(df['InvoiceDate'])"
      ],
      "execution_count": 7,
      "outputs": []
    },
    {
      "cell_type": "code",
      "metadata": {
        "colab": {
          "base_uri": "https://localhost:8080/"
        },
        "id": "3poyQ-cZFgSo",
        "outputId": "d57fcc5a-c694-4a56-b857-67e7f50ea705"
      },
      "source": [
        "print(\"Information of data :\")\r\n",
        "print(\"Total Row \\t\\t:\", df.shape[0]) #check total rows in data\r\n",
        "print(\"Total Column \\t\\t:\", df.shape[1]) #check total coloumns in data\r\n",
        "print(\"Date range from \\t:\", df.InvoiceDate.min(), \" to \", df.InvoiceDate.max()) #check date range in data\r\n",
        "print(\"#Invoice No. \\t\\t:\", df.InvoiceNo.nunique()) #check invoice no.\r\n",
        "print(\"#Unique Customer \\t:\", df.CustomerID.nunique()) #check unique customer\r\n",
        "print(\"Range Quantity \\t\\t:\", df.Quantity.min(), \" to \", df.Quantity.max()) #check range Quantity in data\r\n",
        "print(\"Range UnitPrice \\t:\", df.UnitPrice.min(), \" to \", df.UnitPrice.max()) #check range UnitPrice in data"
      ],
      "execution_count": 8,
      "outputs": [
        {
          "output_type": "stream",
          "text": [
            "Information of data :\n",
            "Total Row \t\t: 541909\n",
            "Total Column \t\t: 8\n",
            "Date range from \t: 2010-12-01 08:26:00  to  2011-12-09 12:50:00\n",
            "#Invoice No. \t\t: 25900\n",
            "#Unique Customer \t: 4372\n",
            "Range Quantity \t\t: -80995  to  80995\n",
            "Range UnitPrice \t: -11062.06  to  38970.0\n"
          ],
          "name": "stdout"
        }
      ]
    },
    {
      "cell_type": "code",
      "metadata": {
        "colab": {
          "base_uri": "https://localhost:8080/"
        },
        "id": "n2JAd06PGmJT",
        "outputId": "c12847a0-23bd-43ca-d89e-439337f2bda0"
      },
      "source": [
        "print(df.isnull().sum().sort_values(ascending=False))"
      ],
      "execution_count": 9,
      "outputs": [
        {
          "output_type": "stream",
          "text": [
            "CustomerID     135080\n",
            "Description      1454\n",
            "Country             0\n",
            "UnitPrice           0\n",
            "InvoiceDate         0\n",
            "Quantity            0\n",
            "StockCode           0\n",
            "InvoiceNo           0\n",
            "dtype: int64\n"
          ],
          "name": "stdout"
        }
      ]
    },
    {
      "cell_type": "code",
      "metadata": {
        "id": "M3eYtzV1Gsrp"
      },
      "source": [
        "df_new = df.dropna() ## remove null\r\n",
        "df_new = df_new[df_new.Quantity > 0] ## remove negative value in Quantity column\r\n",
        "df_new = df_new[df_new.UnitPrice > 0] ## remove negative value in UnitPrice column"
      ],
      "execution_count": 10,
      "outputs": []
    },
    {
      "cell_type": "code",
      "metadata": {
        "colab": {
          "base_uri": "https://localhost:8080/"
        },
        "id": "Yf_Cq0-RGv-o",
        "outputId": "dc23d05d-2db5-4a20-8922-f5aff586d8fa"
      },
      "source": [
        "print(df_new.isnull().sum().sort_values(ascending=False))"
      ],
      "execution_count": 11,
      "outputs": [
        {
          "output_type": "stream",
          "text": [
            "Country        0\n",
            "CustomerID     0\n",
            "UnitPrice      0\n",
            "InvoiceDate    0\n",
            "Quantity       0\n",
            "Description    0\n",
            "StockCode      0\n",
            "InvoiceNo      0\n",
            "dtype: int64\n"
          ],
          "name": "stdout"
        }
      ]
    },
    {
      "cell_type": "code",
      "metadata": {
        "id": "Wd8wtbNcGyCn"
      },
      "source": [
        "df_new['Revenue'] = df_new['Quantity'] * df_new['UnitPrice'] ## add Revenue (Qty * UnitPrice) column\r\n",
        "df_new['CustomerID'] = df_new['CustomerID'].astype('int64') #change format CustomerID"
      ],
      "execution_count": 12,
      "outputs": []
    },
    {
      "cell_type": "markdown",
      "metadata": {
        "id": "7oyh6Il9G5p7"
      },
      "source": [
        "##RFM Analysis"
      ]
    },
    {
      "cell_type": "code",
      "metadata": {
        "id": "MgkAvA1uG4XK"
      },
      "source": [
        "import datetime as dt\r\n",
        "NOW = dt.datetime(2011,12,10)"
      ],
      "execution_count": 13,
      "outputs": []
    },
    {
      "cell_type": "code",
      "metadata": {
        "id": "53iRkhD6G84C"
      },
      "source": [
        "rfmTable = df_new.groupby(['CustomerID'],as_index=False).agg({'InvoiceDate': lambda x: (NOW - x.max()).days, 'InvoiceNo': lambda x: len(x), 'Revenue': lambda x: x.sum()})\r\n",
        "rfmTable['InvoiceDate'] = rfmTable['InvoiceDate'].astype(int)\r\n",
        "rfmTable.rename(columns={'InvoiceDate': 'Recency', \r\n",
        "                         'InvoiceNo': 'Frequency', \r\n",
        "                         'Revenue': 'Monetary'}, inplace=True)"
      ],
      "execution_count": 14,
      "outputs": []
    },
    {
      "cell_type": "code",
      "metadata": {
        "colab": {
          "base_uri": "https://localhost:8080/",
          "height": 196
        },
        "id": "0M7VKZ4rG-pq",
        "outputId": "351b1747-ca8a-4e17-80f8-81ac6a4eac18"
      },
      "source": [
        "rfmTable.head()"
      ],
      "execution_count": 15,
      "outputs": [
        {
          "output_type": "execute_result",
          "data": {
            "text/html": [
              "<div>\n",
              "<style scoped>\n",
              "    .dataframe tbody tr th:only-of-type {\n",
              "        vertical-align: middle;\n",
              "    }\n",
              "\n",
              "    .dataframe tbody tr th {\n",
              "        vertical-align: top;\n",
              "    }\n",
              "\n",
              "    .dataframe thead th {\n",
              "        text-align: right;\n",
              "    }\n",
              "</style>\n",
              "<table border=\"1\" class=\"dataframe\">\n",
              "  <thead>\n",
              "    <tr style=\"text-align: right;\">\n",
              "      <th></th>\n",
              "      <th>CustomerID</th>\n",
              "      <th>Recency</th>\n",
              "      <th>Frequency</th>\n",
              "      <th>Monetary</th>\n",
              "    </tr>\n",
              "  </thead>\n",
              "  <tbody>\n",
              "    <tr>\n",
              "      <th>0</th>\n",
              "      <td>12346</td>\n",
              "      <td>325</td>\n",
              "      <td>1</td>\n",
              "      <td>77183.60</td>\n",
              "    </tr>\n",
              "    <tr>\n",
              "      <th>1</th>\n",
              "      <td>12347</td>\n",
              "      <td>2</td>\n",
              "      <td>182</td>\n",
              "      <td>4310.00</td>\n",
              "    </tr>\n",
              "    <tr>\n",
              "      <th>2</th>\n",
              "      <td>12348</td>\n",
              "      <td>75</td>\n",
              "      <td>31</td>\n",
              "      <td>1797.24</td>\n",
              "    </tr>\n",
              "    <tr>\n",
              "      <th>3</th>\n",
              "      <td>12349</td>\n",
              "      <td>18</td>\n",
              "      <td>73</td>\n",
              "      <td>1757.55</td>\n",
              "    </tr>\n",
              "    <tr>\n",
              "      <th>4</th>\n",
              "      <td>12350</td>\n",
              "      <td>310</td>\n",
              "      <td>17</td>\n",
              "      <td>334.40</td>\n",
              "    </tr>\n",
              "  </tbody>\n",
              "</table>\n",
              "</div>"
            ],
            "text/plain": [
              "   CustomerID  Recency  Frequency  Monetary\n",
              "0       12346      325          1  77183.60\n",
              "1       12347        2        182   4310.00\n",
              "2       12348       75         31   1797.24\n",
              "3       12349       18         73   1757.55\n",
              "4       12350      310         17    334.40"
            ]
          },
          "metadata": {
            "tags": []
          },
          "execution_count": 15
        }
      ]
    },
    {
      "cell_type": "code",
      "metadata": {
        "id": "wlXT8ZUzHBol"
      },
      "source": [
        "quantiles = rfmTable.quantile(q=[0.25,0.5,0.75])\r\n",
        "quantiles = quantiles.to_dict()\r\n",
        "segmented_rfm = rfmTable"
      ],
      "execution_count": 16,
      "outputs": []
    },
    {
      "cell_type": "code",
      "metadata": {
        "id": "p8TG03WJHfii"
      },
      "source": [
        "def RScore(x,p,d):\r\n",
        "    if x <= d[p][0.25]:\r\n",
        "        return 4\r\n",
        "    elif x <= d[p][0.50]:\r\n",
        "        return 3\r\n",
        "    elif x <= d[p][0.75]: \r\n",
        "        return 2\r\n",
        "    else:\r\n",
        "        return 1\r\n",
        "    \r\n",
        "def FMScore(x,p,d):\r\n",
        "    if x <= d[p][0.25]:\r\n",
        "        return 1\r\n",
        "    elif x <= d[p][0.50]:\r\n",
        "        return 2\r\n",
        "    elif x <= d[p][0.75]: \r\n",
        "        return 3\r\n",
        "    else:\r\n",
        "        return 4"
      ],
      "execution_count": 17,
      "outputs": []
    },
    {
      "cell_type": "code",
      "metadata": {
        "colab": {
          "base_uri": "https://localhost:8080/",
          "height": 196
        },
        "id": "J5Gylg5wHlO6",
        "outputId": "62a256aa-adb6-4a83-a39c-1d1554fdaaed"
      },
      "source": [
        "segmented_rfm['r_quartile'] = segmented_rfm['Recency'].apply(RScore, args=('Recency',quantiles,))\r\n",
        "segmented_rfm['f_quartile'] = segmented_rfm['Frequency'].apply(FMScore, args=('Frequency',quantiles,))\r\n",
        "segmented_rfm['m_quartile'] = segmented_rfm['Monetary'].apply(FMScore, args=('Monetary',quantiles,))\r\n",
        "segmented_rfm.head()"
      ],
      "execution_count": 18,
      "outputs": [
        {
          "output_type": "execute_result",
          "data": {
            "text/html": [
              "<div>\n",
              "<style scoped>\n",
              "    .dataframe tbody tr th:only-of-type {\n",
              "        vertical-align: middle;\n",
              "    }\n",
              "\n",
              "    .dataframe tbody tr th {\n",
              "        vertical-align: top;\n",
              "    }\n",
              "\n",
              "    .dataframe thead th {\n",
              "        text-align: right;\n",
              "    }\n",
              "</style>\n",
              "<table border=\"1\" class=\"dataframe\">\n",
              "  <thead>\n",
              "    <tr style=\"text-align: right;\">\n",
              "      <th></th>\n",
              "      <th>CustomerID</th>\n",
              "      <th>Recency</th>\n",
              "      <th>Frequency</th>\n",
              "      <th>Monetary</th>\n",
              "      <th>r_quartile</th>\n",
              "      <th>f_quartile</th>\n",
              "      <th>m_quartile</th>\n",
              "    </tr>\n",
              "  </thead>\n",
              "  <tbody>\n",
              "    <tr>\n",
              "      <th>0</th>\n",
              "      <td>12346</td>\n",
              "      <td>325</td>\n",
              "      <td>1</td>\n",
              "      <td>77183.60</td>\n",
              "      <td>1</td>\n",
              "      <td>1</td>\n",
              "      <td>4</td>\n",
              "    </tr>\n",
              "    <tr>\n",
              "      <th>1</th>\n",
              "      <td>12347</td>\n",
              "      <td>2</td>\n",
              "      <td>182</td>\n",
              "      <td>4310.00</td>\n",
              "      <td>4</td>\n",
              "      <td>4</td>\n",
              "      <td>4</td>\n",
              "    </tr>\n",
              "    <tr>\n",
              "      <th>2</th>\n",
              "      <td>12348</td>\n",
              "      <td>75</td>\n",
              "      <td>31</td>\n",
              "      <td>1797.24</td>\n",
              "      <td>2</td>\n",
              "      <td>2</td>\n",
              "      <td>4</td>\n",
              "    </tr>\n",
              "    <tr>\n",
              "      <th>3</th>\n",
              "      <td>12349</td>\n",
              "      <td>18</td>\n",
              "      <td>73</td>\n",
              "      <td>1757.55</td>\n",
              "      <td>3</td>\n",
              "      <td>3</td>\n",
              "      <td>4</td>\n",
              "    </tr>\n",
              "    <tr>\n",
              "      <th>4</th>\n",
              "      <td>12350</td>\n",
              "      <td>310</td>\n",
              "      <td>17</td>\n",
              "      <td>334.40</td>\n",
              "      <td>1</td>\n",
              "      <td>1</td>\n",
              "      <td>2</td>\n",
              "    </tr>\n",
              "  </tbody>\n",
              "</table>\n",
              "</div>"
            ],
            "text/plain": [
              "   CustomerID  Recency  Frequency  Monetary  r_quartile  f_quartile  m_quartile\n",
              "0       12346      325          1  77183.60           1           1           4\n",
              "1       12347        2        182   4310.00           4           4           4\n",
              "2       12348       75         31   1797.24           2           2           4\n",
              "3       12349       18         73   1757.55           3           3           4\n",
              "4       12350      310         17    334.40           1           1           2"
            ]
          },
          "metadata": {
            "tags": []
          },
          "execution_count": 18
        }
      ]
    },
    {
      "cell_type": "code",
      "metadata": {
        "colab": {
          "base_uri": "https://localhost:8080/",
          "height": 196
        },
        "id": "rneYALoCHoWY",
        "outputId": "f18a449d-e316-48d3-d2db-2afe4b20874c"
      },
      "source": [
        "segmented_rfm['RFM_Segement'] = segmented_rfm.r_quartile.map(str)+segmented_rfm.f_quartile.map(str)+segmented_rfm.m_quartile.map(str)\r\n",
        "segmented_rfm.head()"
      ],
      "execution_count": 19,
      "outputs": [
        {
          "output_type": "execute_result",
          "data": {
            "text/html": [
              "<div>\n",
              "<style scoped>\n",
              "    .dataframe tbody tr th:only-of-type {\n",
              "        vertical-align: middle;\n",
              "    }\n",
              "\n",
              "    .dataframe tbody tr th {\n",
              "        vertical-align: top;\n",
              "    }\n",
              "\n",
              "    .dataframe thead th {\n",
              "        text-align: right;\n",
              "    }\n",
              "</style>\n",
              "<table border=\"1\" class=\"dataframe\">\n",
              "  <thead>\n",
              "    <tr style=\"text-align: right;\">\n",
              "      <th></th>\n",
              "      <th>CustomerID</th>\n",
              "      <th>Recency</th>\n",
              "      <th>Frequency</th>\n",
              "      <th>Monetary</th>\n",
              "      <th>r_quartile</th>\n",
              "      <th>f_quartile</th>\n",
              "      <th>m_quartile</th>\n",
              "      <th>RFM_Segement</th>\n",
              "    </tr>\n",
              "  </thead>\n",
              "  <tbody>\n",
              "    <tr>\n",
              "      <th>0</th>\n",
              "      <td>12346</td>\n",
              "      <td>325</td>\n",
              "      <td>1</td>\n",
              "      <td>77183.60</td>\n",
              "      <td>1</td>\n",
              "      <td>1</td>\n",
              "      <td>4</td>\n",
              "      <td>114</td>\n",
              "    </tr>\n",
              "    <tr>\n",
              "      <th>1</th>\n",
              "      <td>12347</td>\n",
              "      <td>2</td>\n",
              "      <td>182</td>\n",
              "      <td>4310.00</td>\n",
              "      <td>4</td>\n",
              "      <td>4</td>\n",
              "      <td>4</td>\n",
              "      <td>444</td>\n",
              "    </tr>\n",
              "    <tr>\n",
              "      <th>2</th>\n",
              "      <td>12348</td>\n",
              "      <td>75</td>\n",
              "      <td>31</td>\n",
              "      <td>1797.24</td>\n",
              "      <td>2</td>\n",
              "      <td>2</td>\n",
              "      <td>4</td>\n",
              "      <td>224</td>\n",
              "    </tr>\n",
              "    <tr>\n",
              "      <th>3</th>\n",
              "      <td>12349</td>\n",
              "      <td>18</td>\n",
              "      <td>73</td>\n",
              "      <td>1757.55</td>\n",
              "      <td>3</td>\n",
              "      <td>3</td>\n",
              "      <td>4</td>\n",
              "      <td>334</td>\n",
              "    </tr>\n",
              "    <tr>\n",
              "      <th>4</th>\n",
              "      <td>12350</td>\n",
              "      <td>310</td>\n",
              "      <td>17</td>\n",
              "      <td>334.40</td>\n",
              "      <td>1</td>\n",
              "      <td>1</td>\n",
              "      <td>2</td>\n",
              "      <td>112</td>\n",
              "    </tr>\n",
              "  </tbody>\n",
              "</table>\n",
              "</div>"
            ],
            "text/plain": [
              "   CustomerID  Recency  Frequency  ...  f_quartile  m_quartile  RFM_Segement\n",
              "0       12346      325          1  ...           1           4           114\n",
              "1       12347        2        182  ...           4           4           444\n",
              "2       12348       75         31  ...           2           4           224\n",
              "3       12349       18         73  ...           3           4           334\n",
              "4       12350      310         17  ...           1           2           112\n",
              "\n",
              "[5 rows x 8 columns]"
            ]
          },
          "metadata": {
            "tags": []
          },
          "execution_count": 19
        }
      ]
    },
    {
      "cell_type": "code",
      "metadata": {
        "colab": {
          "base_uri": "https://localhost:8080/",
          "height": 196
        },
        "id": "3O84RVKfLIqU",
        "outputId": "80721ba6-0b70-4e54-b34a-ceb32cda6552"
      },
      "source": [
        "segmented_rfm['RFM_Score'] = segmented_rfm[['r_quartile','f_quartile','m_quartile']].sum(axis=1)\r\n",
        "segmented_rfm.head()"
      ],
      "execution_count": 20,
      "outputs": [
        {
          "output_type": "execute_result",
          "data": {
            "text/html": [
              "<div>\n",
              "<style scoped>\n",
              "    .dataframe tbody tr th:only-of-type {\n",
              "        vertical-align: middle;\n",
              "    }\n",
              "\n",
              "    .dataframe tbody tr th {\n",
              "        vertical-align: top;\n",
              "    }\n",
              "\n",
              "    .dataframe thead th {\n",
              "        text-align: right;\n",
              "    }\n",
              "</style>\n",
              "<table border=\"1\" class=\"dataframe\">\n",
              "  <thead>\n",
              "    <tr style=\"text-align: right;\">\n",
              "      <th></th>\n",
              "      <th>CustomerID</th>\n",
              "      <th>Recency</th>\n",
              "      <th>Frequency</th>\n",
              "      <th>Monetary</th>\n",
              "      <th>r_quartile</th>\n",
              "      <th>f_quartile</th>\n",
              "      <th>m_quartile</th>\n",
              "      <th>RFM_Segement</th>\n",
              "      <th>RFM_Score</th>\n",
              "    </tr>\n",
              "  </thead>\n",
              "  <tbody>\n",
              "    <tr>\n",
              "      <th>0</th>\n",
              "      <td>12346</td>\n",
              "      <td>325</td>\n",
              "      <td>1</td>\n",
              "      <td>77183.60</td>\n",
              "      <td>1</td>\n",
              "      <td>1</td>\n",
              "      <td>4</td>\n",
              "      <td>114</td>\n",
              "      <td>6</td>\n",
              "    </tr>\n",
              "    <tr>\n",
              "      <th>1</th>\n",
              "      <td>12347</td>\n",
              "      <td>2</td>\n",
              "      <td>182</td>\n",
              "      <td>4310.00</td>\n",
              "      <td>4</td>\n",
              "      <td>4</td>\n",
              "      <td>4</td>\n",
              "      <td>444</td>\n",
              "      <td>12</td>\n",
              "    </tr>\n",
              "    <tr>\n",
              "      <th>2</th>\n",
              "      <td>12348</td>\n",
              "      <td>75</td>\n",
              "      <td>31</td>\n",
              "      <td>1797.24</td>\n",
              "      <td>2</td>\n",
              "      <td>2</td>\n",
              "      <td>4</td>\n",
              "      <td>224</td>\n",
              "      <td>8</td>\n",
              "    </tr>\n",
              "    <tr>\n",
              "      <th>3</th>\n",
              "      <td>12349</td>\n",
              "      <td>18</td>\n",
              "      <td>73</td>\n",
              "      <td>1757.55</td>\n",
              "      <td>3</td>\n",
              "      <td>3</td>\n",
              "      <td>4</td>\n",
              "      <td>334</td>\n",
              "      <td>10</td>\n",
              "    </tr>\n",
              "    <tr>\n",
              "      <th>4</th>\n",
              "      <td>12350</td>\n",
              "      <td>310</td>\n",
              "      <td>17</td>\n",
              "      <td>334.40</td>\n",
              "      <td>1</td>\n",
              "      <td>1</td>\n",
              "      <td>2</td>\n",
              "      <td>112</td>\n",
              "      <td>4</td>\n",
              "    </tr>\n",
              "  </tbody>\n",
              "</table>\n",
              "</div>"
            ],
            "text/plain": [
              "   CustomerID  Recency  Frequency  ...  m_quartile  RFM_Segement  RFM_Score\n",
              "0       12346      325          1  ...           4           114          6\n",
              "1       12347        2        182  ...           4           444         12\n",
              "2       12348       75         31  ...           4           224          8\n",
              "3       12349       18         73  ...           4           334         10\n",
              "4       12350      310         17  ...           2           112          4\n",
              "\n",
              "[5 rows x 9 columns]"
            ]
          },
          "metadata": {
            "tags": []
          },
          "execution_count": 20
        }
      ]
    },
    {
      "cell_type": "markdown",
      "metadata": {
        "id": "doORPoCHH6J3"
      },
      "source": [
        "###Top 5 Customer based on RFMScore\r\n"
      ]
    },
    {
      "cell_type": "code",
      "metadata": {
        "colab": {
          "base_uri": "https://localhost:8080/",
          "height": 644
        },
        "id": "k622nFDiH6w3",
        "outputId": "2a231db8-38bd-416d-80b9-9d6783d183ac"
      },
      "source": [
        "top_customer = df_new[df_new['CustomerID'] == 14646]\r\n",
        "top_customer.head(20)"
      ],
      "execution_count": 21,
      "outputs": [
        {
          "output_type": "execute_result",
          "data": {
            "text/html": [
              "<div>\n",
              "<style scoped>\n",
              "    .dataframe tbody tr th:only-of-type {\n",
              "        vertical-align: middle;\n",
              "    }\n",
              "\n",
              "    .dataframe tbody tr th {\n",
              "        vertical-align: top;\n",
              "    }\n",
              "\n",
              "    .dataframe thead th {\n",
              "        text-align: right;\n",
              "    }\n",
              "</style>\n",
              "<table border=\"1\" class=\"dataframe\">\n",
              "  <thead>\n",
              "    <tr style=\"text-align: right;\">\n",
              "      <th></th>\n",
              "      <th>InvoiceNo</th>\n",
              "      <th>StockCode</th>\n",
              "      <th>Description</th>\n",
              "      <th>Quantity</th>\n",
              "      <th>InvoiceDate</th>\n",
              "      <th>UnitPrice</th>\n",
              "      <th>CustomerID</th>\n",
              "      <th>Country</th>\n",
              "      <th>Revenue</th>\n",
              "    </tr>\n",
              "  </thead>\n",
              "  <tbody>\n",
              "    <tr>\n",
              "      <th>37952</th>\n",
              "      <td>539491</td>\n",
              "      <td>21981</td>\n",
              "      <td>PACK OF 12 WOODLAND TISSUES</td>\n",
              "      <td>12</td>\n",
              "      <td>2010-12-20 10:09:00</td>\n",
              "      <td>0.29</td>\n",
              "      <td>14646</td>\n",
              "      <td>Netherlands</td>\n",
              "      <td>3.48</td>\n",
              "    </tr>\n",
              "    <tr>\n",
              "      <th>37953</th>\n",
              "      <td>539491</td>\n",
              "      <td>21986</td>\n",
              "      <td>PACK OF 12 PINK POLKADOT TISSUES</td>\n",
              "      <td>12</td>\n",
              "      <td>2010-12-20 10:09:00</td>\n",
              "      <td>0.29</td>\n",
              "      <td>14646</td>\n",
              "      <td>Netherlands</td>\n",
              "      <td>3.48</td>\n",
              "    </tr>\n",
              "    <tr>\n",
              "      <th>37954</th>\n",
              "      <td>539491</td>\n",
              "      <td>22720</td>\n",
              "      <td>SET OF 3 CAKE TINS PANTRY DESIGN</td>\n",
              "      <td>2</td>\n",
              "      <td>2010-12-20 10:09:00</td>\n",
              "      <td>4.95</td>\n",
              "      <td>14646</td>\n",
              "      <td>Netherlands</td>\n",
              "      <td>9.90</td>\n",
              "    </tr>\n",
              "    <tr>\n",
              "      <th>37955</th>\n",
              "      <td>539491</td>\n",
              "      <td>21931</td>\n",
              "      <td>JUMBO STORAGE BAG SUKI</td>\n",
              "      <td>1</td>\n",
              "      <td>2010-12-20 10:09:00</td>\n",
              "      <td>1.95</td>\n",
              "      <td>14646</td>\n",
              "      <td>Netherlands</td>\n",
              "      <td>1.95</td>\n",
              "    </tr>\n",
              "    <tr>\n",
              "      <th>37956</th>\n",
              "      <td>539491</td>\n",
              "      <td>22613</td>\n",
              "      <td>PACK OF 20 SPACEBOY NAPKINS</td>\n",
              "      <td>2</td>\n",
              "      <td>2010-12-20 10:09:00</td>\n",
              "      <td>0.85</td>\n",
              "      <td>14646</td>\n",
              "      <td>Netherlands</td>\n",
              "      <td>1.70</td>\n",
              "    </tr>\n",
              "    <tr>\n",
              "      <th>37957</th>\n",
              "      <td>539491</td>\n",
              "      <td>20751</td>\n",
              "      <td>FUNKY WASHING UP GLOVES ASSORTED</td>\n",
              "      <td>1</td>\n",
              "      <td>2010-12-20 10:09:00</td>\n",
              "      <td>2.10</td>\n",
              "      <td>14646</td>\n",
              "      <td>Netherlands</td>\n",
              "      <td>2.10</td>\n",
              "    </tr>\n",
              "    <tr>\n",
              "      <th>37958</th>\n",
              "      <td>539491</td>\n",
              "      <td>21246</td>\n",
              "      <td>RED RETROSPOT BIG BOWL</td>\n",
              "      <td>2</td>\n",
              "      <td>2010-12-20 10:09:00</td>\n",
              "      <td>4.95</td>\n",
              "      <td>14646</td>\n",
              "      <td>Netherlands</td>\n",
              "      <td>9.90</td>\n",
              "    </tr>\n",
              "    <tr>\n",
              "      <th>37959</th>\n",
              "      <td>539491</td>\n",
              "      <td>22960</td>\n",
              "      <td>JAM MAKING SET WITH JARS</td>\n",
              "      <td>1</td>\n",
              "      <td>2010-12-20 10:09:00</td>\n",
              "      <td>4.25</td>\n",
              "      <td>14646</td>\n",
              "      <td>Netherlands</td>\n",
              "      <td>4.25</td>\n",
              "    </tr>\n",
              "    <tr>\n",
              "      <th>37960</th>\n",
              "      <td>539491</td>\n",
              "      <td>22355</td>\n",
              "      <td>CHARLOTTE BAG SUKI DESIGN</td>\n",
              "      <td>2</td>\n",
              "      <td>2010-12-20 10:09:00</td>\n",
              "      <td>0.85</td>\n",
              "      <td>14646</td>\n",
              "      <td>Netherlands</td>\n",
              "      <td>1.70</td>\n",
              "    </tr>\n",
              "    <tr>\n",
              "      <th>37961</th>\n",
              "      <td>539491</td>\n",
              "      <td>21123</td>\n",
              "      <td>SET/10 IVORY POLKADOT PARTY CANDLES</td>\n",
              "      <td>2</td>\n",
              "      <td>2010-12-20 10:09:00</td>\n",
              "      <td>1.25</td>\n",
              "      <td>14646</td>\n",
              "      <td>Netherlands</td>\n",
              "      <td>2.50</td>\n",
              "    </tr>\n",
              "    <tr>\n",
              "      <th>37962</th>\n",
              "      <td>539491</td>\n",
              "      <td>47599A</td>\n",
              "      <td>PINK PARTY BAGS</td>\n",
              "      <td>2</td>\n",
              "      <td>2010-12-20 10:09:00</td>\n",
              "      <td>2.10</td>\n",
              "      <td>14646</td>\n",
              "      <td>Netherlands</td>\n",
              "      <td>4.20</td>\n",
              "    </tr>\n",
              "    <tr>\n",
              "      <th>37963</th>\n",
              "      <td>539491</td>\n",
              "      <td>22331</td>\n",
              "      <td>WOODLAND PARTY BAG + STICKER SET</td>\n",
              "      <td>2</td>\n",
              "      <td>2010-12-20 10:09:00</td>\n",
              "      <td>1.65</td>\n",
              "      <td>14646</td>\n",
              "      <td>Netherlands</td>\n",
              "      <td>3.30</td>\n",
              "    </tr>\n",
              "    <tr>\n",
              "      <th>37964</th>\n",
              "      <td>539491</td>\n",
              "      <td>22333</td>\n",
              "      <td>RETROSPOT PARTY BAG + STICKER SET</td>\n",
              "      <td>2</td>\n",
              "      <td>2010-12-20 10:09:00</td>\n",
              "      <td>1.65</td>\n",
              "      <td>14646</td>\n",
              "      <td>Netherlands</td>\n",
              "      <td>3.30</td>\n",
              "    </tr>\n",
              "    <tr>\n",
              "      <th>37965</th>\n",
              "      <td>539491</td>\n",
              "      <td>22315</td>\n",
              "      <td>200 RED + WHITE BENDY STRAWS</td>\n",
              "      <td>1</td>\n",
              "      <td>2010-12-20 10:09:00</td>\n",
              "      <td>1.25</td>\n",
              "      <td>14646</td>\n",
              "      <td>Netherlands</td>\n",
              "      <td>1.25</td>\n",
              "    </tr>\n",
              "    <tr>\n",
              "      <th>37966</th>\n",
              "      <td>539491</td>\n",
              "      <td>22445</td>\n",
              "      <td>PENCIL CASE LIFE IS BEAUTIFUL</td>\n",
              "      <td>1</td>\n",
              "      <td>2010-12-20 10:09:00</td>\n",
              "      <td>2.95</td>\n",
              "      <td>14646</td>\n",
              "      <td>Netherlands</td>\n",
              "      <td>2.95</td>\n",
              "    </tr>\n",
              "    <tr>\n",
              "      <th>37967</th>\n",
              "      <td>539491</td>\n",
              "      <td>POST</td>\n",
              "      <td>POSTAGE</td>\n",
              "      <td>1</td>\n",
              "      <td>2010-12-20 10:09:00</td>\n",
              "      <td>15.00</td>\n",
              "      <td>14646</td>\n",
              "      <td>Netherlands</td>\n",
              "      <td>15.00</td>\n",
              "    </tr>\n",
              "    <tr>\n",
              "      <th>40190</th>\n",
              "      <td>539731</td>\n",
              "      <td>21212</td>\n",
              "      <td>PACK OF 72 RETROSPOT CAKE CASES</td>\n",
              "      <td>240</td>\n",
              "      <td>2010-12-21 15:05:00</td>\n",
              "      <td>0.42</td>\n",
              "      <td>14646</td>\n",
              "      <td>Netherlands</td>\n",
              "      <td>100.80</td>\n",
              "    </tr>\n",
              "    <tr>\n",
              "      <th>40191</th>\n",
              "      <td>539731</td>\n",
              "      <td>22858</td>\n",
              "      <td>EASTER TIN KEEPSAKE</td>\n",
              "      <td>108</td>\n",
              "      <td>2010-12-21 15:05:00</td>\n",
              "      <td>1.45</td>\n",
              "      <td>14646</td>\n",
              "      <td>Netherlands</td>\n",
              "      <td>156.60</td>\n",
              "    </tr>\n",
              "    <tr>\n",
              "      <th>40192</th>\n",
              "      <td>539731</td>\n",
              "      <td>84459A</td>\n",
              "      <td>PINK METAL CHICKEN HEART</td>\n",
              "      <td>192</td>\n",
              "      <td>2010-12-21 15:05:00</td>\n",
              "      <td>1.25</td>\n",
              "      <td>14646</td>\n",
              "      <td>Netherlands</td>\n",
              "      <td>240.00</td>\n",
              "    </tr>\n",
              "    <tr>\n",
              "      <th>40193</th>\n",
              "      <td>539731</td>\n",
              "      <td>84459B</td>\n",
              "      <td>YELLOW METAL CHICKEN HEART</td>\n",
              "      <td>192</td>\n",
              "      <td>2010-12-21 15:05:00</td>\n",
              "      <td>1.25</td>\n",
              "      <td>14646</td>\n",
              "      <td>Netherlands</td>\n",
              "      <td>240.00</td>\n",
              "    </tr>\n",
              "  </tbody>\n",
              "</table>\n",
              "</div>"
            ],
            "text/plain": [
              "      InvoiceNo StockCode  ...      Country  Revenue\n",
              "37952    539491     21981  ...  Netherlands     3.48\n",
              "37953    539491     21986  ...  Netherlands     3.48\n",
              "37954    539491     22720  ...  Netherlands     9.90\n",
              "37955    539491     21931  ...  Netherlands     1.95\n",
              "37956    539491     22613  ...  Netherlands     1.70\n",
              "37957    539491     20751  ...  Netherlands     2.10\n",
              "37958    539491     21246  ...  Netherlands     9.90\n",
              "37959    539491     22960  ...  Netherlands     4.25\n",
              "37960    539491     22355  ...  Netherlands     1.70\n",
              "37961    539491     21123  ...  Netherlands     2.50\n",
              "37962    539491    47599A  ...  Netherlands     4.20\n",
              "37963    539491     22331  ...  Netherlands     3.30\n",
              "37964    539491     22333  ...  Netherlands     3.30\n",
              "37965    539491     22315  ...  Netherlands     1.25\n",
              "37966    539491     22445  ...  Netherlands     2.95\n",
              "37967    539491      POST  ...  Netherlands    15.00\n",
              "40190    539731     21212  ...  Netherlands   100.80\n",
              "40191    539731     22858  ...  Netherlands   156.60\n",
              "40192    539731    84459A  ...  Netherlands   240.00\n",
              "40193    539731    84459B  ...  Netherlands   240.00\n",
              "\n",
              "[20 rows x 9 columns]"
            ]
          },
          "metadata": {
            "tags": []
          },
          "execution_count": 21
        }
      ]
    },
    {
      "cell_type": "code",
      "metadata": {
        "id": "1Rqru0M2Nw7P"
      },
      "source": [
        "data = segmented_rfm.copy()"
      ],
      "execution_count": 22,
      "outputs": []
    },
    {
      "cell_type": "code",
      "metadata": {
        "colab": {
          "base_uri": "https://localhost:8080/",
          "height": 196
        },
        "id": "bG1ZybvDN1Wv",
        "outputId": "4064106e-825e-46ec-8876-04f8c84b4660"
      },
      "source": [
        "data.head()"
      ],
      "execution_count": 23,
      "outputs": [
        {
          "output_type": "execute_result",
          "data": {
            "text/html": [
              "<div>\n",
              "<style scoped>\n",
              "    .dataframe tbody tr th:only-of-type {\n",
              "        vertical-align: middle;\n",
              "    }\n",
              "\n",
              "    .dataframe tbody tr th {\n",
              "        vertical-align: top;\n",
              "    }\n",
              "\n",
              "    .dataframe thead th {\n",
              "        text-align: right;\n",
              "    }\n",
              "</style>\n",
              "<table border=\"1\" class=\"dataframe\">\n",
              "  <thead>\n",
              "    <tr style=\"text-align: right;\">\n",
              "      <th></th>\n",
              "      <th>CustomerID</th>\n",
              "      <th>Recency</th>\n",
              "      <th>Frequency</th>\n",
              "      <th>Monetary</th>\n",
              "      <th>r_quartile</th>\n",
              "      <th>f_quartile</th>\n",
              "      <th>m_quartile</th>\n",
              "      <th>RFM_Segement</th>\n",
              "      <th>RFM_Score</th>\n",
              "    </tr>\n",
              "  </thead>\n",
              "  <tbody>\n",
              "    <tr>\n",
              "      <th>0</th>\n",
              "      <td>12346</td>\n",
              "      <td>325</td>\n",
              "      <td>1</td>\n",
              "      <td>77183.60</td>\n",
              "      <td>1</td>\n",
              "      <td>1</td>\n",
              "      <td>4</td>\n",
              "      <td>114</td>\n",
              "      <td>6</td>\n",
              "    </tr>\n",
              "    <tr>\n",
              "      <th>1</th>\n",
              "      <td>12347</td>\n",
              "      <td>2</td>\n",
              "      <td>182</td>\n",
              "      <td>4310.00</td>\n",
              "      <td>4</td>\n",
              "      <td>4</td>\n",
              "      <td>4</td>\n",
              "      <td>444</td>\n",
              "      <td>12</td>\n",
              "    </tr>\n",
              "    <tr>\n",
              "      <th>2</th>\n",
              "      <td>12348</td>\n",
              "      <td>75</td>\n",
              "      <td>31</td>\n",
              "      <td>1797.24</td>\n",
              "      <td>2</td>\n",
              "      <td>2</td>\n",
              "      <td>4</td>\n",
              "      <td>224</td>\n",
              "      <td>8</td>\n",
              "    </tr>\n",
              "    <tr>\n",
              "      <th>3</th>\n",
              "      <td>12349</td>\n",
              "      <td>18</td>\n",
              "      <td>73</td>\n",
              "      <td>1757.55</td>\n",
              "      <td>3</td>\n",
              "      <td>3</td>\n",
              "      <td>4</td>\n",
              "      <td>334</td>\n",
              "      <td>10</td>\n",
              "    </tr>\n",
              "    <tr>\n",
              "      <th>4</th>\n",
              "      <td>12350</td>\n",
              "      <td>310</td>\n",
              "      <td>17</td>\n",
              "      <td>334.40</td>\n",
              "      <td>1</td>\n",
              "      <td>1</td>\n",
              "      <td>2</td>\n",
              "      <td>112</td>\n",
              "      <td>4</td>\n",
              "    </tr>\n",
              "  </tbody>\n",
              "</table>\n",
              "</div>"
            ],
            "text/plain": [
              "   CustomerID  Recency  Frequency  ...  m_quartile  RFM_Segement  RFM_Score\n",
              "0       12346      325          1  ...           4           114          6\n",
              "1       12347        2        182  ...           4           444         12\n",
              "2       12348       75         31  ...           4           224          8\n",
              "3       12349       18         73  ...           4           334         10\n",
              "4       12350      310         17  ...           2           112          4\n",
              "\n",
              "[5 rows x 9 columns]"
            ]
          },
          "metadata": {
            "tags": []
          },
          "execution_count": 23
        }
      ]
    },
    {
      "cell_type": "markdown",
      "metadata": {
        "id": "hCkQ5ZN2OAcl"
      },
      "source": [
        "## Preprocessing data for Clustering\r\n",
        "In the next section, we are going to prepare the data for Kmeans clustering on RFM Score data. To do this, we need to preprocess the data so that it can meet the key assumptions of Kmeans algorithm, which are:\r\n",
        "\r\n",
        "The varaiables should be distributed symmetrically\r\n",
        "Variables should have similar average values\r\n",
        "Variables should have similar standard deviation values[link text](https://)"
      ]
    },
    {
      "cell_type": "code",
      "metadata": {
        "colab": {
          "base_uri": "https://localhost:8080/",
          "height": 743
        },
        "id": "8dzq6qGqIDvc",
        "outputId": "7259ac79-ed45-451e-f53e-5458d2e1ecfe"
      },
      "source": [
        "# Checking the distribution of Recency, Frequency and MonetaryValue variables.\r\n",
        "plt.figure(figsize=(12,10))\r\n",
        "\r\n",
        "# Plot distribution of var1\r\n",
        "plt.subplot(3, 1, 1); sns.distplot(data['Recency'])\r\n",
        "\r\n",
        "# Plot distribution of var2\r\n",
        "plt.subplot(3, 1, 2); sns.distplot(data['Frequency'])\r\n",
        "\r\n",
        "# Plot distribution of var3\r\n",
        "plt.subplot(3, 1, 3); sns.distplot(data['Monetary'])"
      ],
      "execution_count": 24,
      "outputs": [
        {
          "output_type": "stream",
          "text": [
            "/usr/local/lib/python3.6/dist-packages/seaborn/distributions.py:2557: FutureWarning: `distplot` is a deprecated function and will be removed in a future version. Please adapt your code to use either `displot` (a figure-level function with similar flexibility) or `histplot` (an axes-level function for histograms).\n",
            "  warnings.warn(msg, FutureWarning)\n",
            "/usr/local/lib/python3.6/dist-packages/seaborn/distributions.py:2557: FutureWarning: `distplot` is a deprecated function and will be removed in a future version. Please adapt your code to use either `displot` (a figure-level function with similar flexibility) or `histplot` (an axes-level function for histograms).\n",
            "  warnings.warn(msg, FutureWarning)\n",
            "/usr/local/lib/python3.6/dist-packages/seaborn/distributions.py:2557: FutureWarning: `distplot` is a deprecated function and will be removed in a future version. Please adapt your code to use either `displot` (a figure-level function with similar flexibility) or `histplot` (an axes-level function for histograms).\n",
            "  warnings.warn(msg, FutureWarning)\n"
          ],
          "name": "stderr"
        },
        {
          "output_type": "execute_result",
          "data": {
            "text/plain": [
              "<matplotlib.axes._subplots.AxesSubplot at 0x7f9fa3e42f60>"
            ]
          },
          "metadata": {
            "tags": []
          },
          "execution_count": 24
        },
        {
          "output_type": "display_data",
          "data": {
            "image/png": "[encoded data removed]",
            "text/plain": [
              "<Figure size 864x720 with 3 Axes>"
            ]
          },
          "metadata": {
            "tags": [],
            "needs_background": "light"
          }
        }
      ]
    },
    {
      "cell_type": "markdown",
      "metadata": {
        "id": "cvBXJs33OHhP"
      },
      "source": [
        "\r\n",
        "As we can see from the above plots, all the variables do not have a symmetrical distribution. All of them are skewed to the right. To remove the skewness, we can try the following transformations:\r\n",
        "\r\n",
        "log transformations\r\n",
        "Box-Cox transformations\r\n",
        "Cube root transformations\r\n",
        "The log transformation cannot be used for negative values. One common practice one can use here is to add a constant value to get a positive value and this is generally taken as the absolute of the least negative value of the variable to each observation. However, in our data, we do not have any negative values since we are dealing with customer transactions dataset."
      ]
    },
    {
      "cell_type": "code",
      "metadata": {
        "colab": {
          "base_uri": "https://localhost:8080/",
          "height": 286
        },
        "id": "OqTY8kvxN5Pi",
        "outputId": "039c8853-30ed-4dd5-9fbd-e1988bab28a3"
      },
      "source": [
        "# Checking for constant mean and variance.\r\n",
        "data[['Recency','Frequency','Monetary']].describe()"
      ],
      "execution_count": 25,
      "outputs": [
        {
          "output_type": "execute_result",
          "data": {
            "text/html": [
              "<div>\n",
              "<style scoped>\n",
              "    .dataframe tbody tr th:only-of-type {\n",
              "        vertical-align: middle;\n",
              "    }\n",
              "\n",
              "    .dataframe tbody tr th {\n",
              "        vertical-align: top;\n",
              "    }\n",
              "\n",
              "    .dataframe thead th {\n",
              "        text-align: right;\n",
              "    }\n",
              "</style>\n",
              "<table border=\"1\" class=\"dataframe\">\n",
              "  <thead>\n",
              "    <tr style=\"text-align: right;\">\n",
              "      <th></th>\n",
              "      <th>Recency</th>\n",
              "      <th>Frequency</th>\n",
              "      <th>Monetary</th>\n",
              "    </tr>\n",
              "  </thead>\n",
              "  <tbody>\n",
              "    <tr>\n",
              "      <th>count</th>\n",
              "      <td>4338.000000</td>\n",
              "      <td>4338.000000</td>\n",
              "      <td>4338.000000</td>\n",
              "    </tr>\n",
              "    <tr>\n",
              "      <th>mean</th>\n",
              "      <td>92.059474</td>\n",
              "      <td>91.720609</td>\n",
              "      <td>2054.266460</td>\n",
              "    </tr>\n",
              "    <tr>\n",
              "      <th>std</th>\n",
              "      <td>100.012264</td>\n",
              "      <td>228.785094</td>\n",
              "      <td>8989.230441</td>\n",
              "    </tr>\n",
              "    <tr>\n",
              "      <th>min</th>\n",
              "      <td>0.000000</td>\n",
              "      <td>1.000000</td>\n",
              "      <td>3.750000</td>\n",
              "    </tr>\n",
              "    <tr>\n",
              "      <th>25%</th>\n",
              "      <td>17.000000</td>\n",
              "      <td>17.000000</td>\n",
              "      <td>307.415000</td>\n",
              "    </tr>\n",
              "    <tr>\n",
              "      <th>50%</th>\n",
              "      <td>50.000000</td>\n",
              "      <td>41.000000</td>\n",
              "      <td>674.485000</td>\n",
              "    </tr>\n",
              "    <tr>\n",
              "      <th>75%</th>\n",
              "      <td>141.750000</td>\n",
              "      <td>100.000000</td>\n",
              "      <td>1661.740000</td>\n",
              "    </tr>\n",
              "    <tr>\n",
              "      <th>max</th>\n",
              "      <td>373.000000</td>\n",
              "      <td>7847.000000</td>\n",
              "      <td>280206.020000</td>\n",
              "    </tr>\n",
              "  </tbody>\n",
              "</table>\n",
              "</div>"
            ],
            "text/plain": [
              "           Recency    Frequency       Monetary\n",
              "count  4338.000000  4338.000000    4338.000000\n",
              "mean     92.059474    91.720609    2054.266460\n",
              "std     100.012264   228.785094    8989.230441\n",
              "min       0.000000     1.000000       3.750000\n",
              "25%      17.000000    17.000000     307.415000\n",
              "50%      50.000000    41.000000     674.485000\n",
              "75%     141.750000   100.000000    1661.740000\n",
              "max     373.000000  7847.000000  280206.020000"
            ]
          },
          "metadata": {
            "tags": []
          },
          "execution_count": 25
        }
      ]
    },
    {
      "cell_type": "code",
      "metadata": {
        "colab": {
          "base_uri": "https://localhost:8080/"
        },
        "id": "zZGK9PUoQCxw",
        "outputId": "a87b9745-4bca-4e5d-ba25-4e549ad31312"
      },
      "source": [
        "data.dtypes"
      ],
      "execution_count": 26,
      "outputs": [
        {
          "output_type": "execute_result",
          "data": {
            "text/plain": [
              "CustomerID        int64\n",
              "Recency           int64\n",
              "Frequency         int64\n",
              "Monetary        float64\n",
              "r_quartile        int64\n",
              "f_quartile        int64\n",
              "m_quartile        int64\n",
              "RFM_Segement     object\n",
              "RFM_Score         int64\n",
              "dtype: object"
            ]
          },
          "metadata": {
            "tags": []
          },
          "execution_count": 26
        }
      ]
    },
    {
      "cell_type": "code",
      "metadata": {
        "colab": {
          "base_uri": "https://localhost:8080/",
          "height": 1000
        },
        "id": "78wors34QLnv",
        "outputId": "9a8747a1-9ec7-4f22-d469-8ba64bcffdb0"
      },
      "source": [
        "data[data['Recency'] == 0]"
      ],
      "execution_count": 27,
      "outputs": [
        {
          "output_type": "execute_result",
          "data": {
            "text/html": [
              "<div>\n",
              "<style scoped>\n",
              "    .dataframe tbody tr th:only-of-type {\n",
              "        vertical-align: middle;\n",
              "    }\n",
              "\n",
              "    .dataframe tbody tr th {\n",
              "        vertical-align: top;\n",
              "    }\n",
              "\n",
              "    .dataframe thead th {\n",
              "        text-align: right;\n",
              "    }\n",
              "</style>\n",
              "<table border=\"1\" class=\"dataframe\">\n",
              "  <thead>\n",
              "    <tr style=\"text-align: right;\">\n",
              "      <th></th>\n",
              "      <th>CustomerID</th>\n",
              "      <th>Recency</th>\n",
              "      <th>Frequency</th>\n",
              "      <th>Monetary</th>\n",
              "      <th>r_quartile</th>\n",
              "      <th>f_quartile</th>\n",
              "      <th>m_quartile</th>\n",
              "      <th>RFM_Segement</th>\n",
              "      <th>RFM_Score</th>\n",
              "    </tr>\n",
              "  </thead>\n",
              "  <tbody>\n",
              "    <tr>\n",
              "      <th>61</th>\n",
              "      <td>12423</td>\n",
              "      <td>0</td>\n",
              "      <td>125</td>\n",
              "      <td>1859.31</td>\n",
              "      <td>4</td>\n",
              "      <td>4</td>\n",
              "      <td>4</td>\n",
              "      <td>444</td>\n",
              "      <td>12</td>\n",
              "    </tr>\n",
              "    <tr>\n",
              "      <th>71</th>\n",
              "      <td>12433</td>\n",
              "      <td>0</td>\n",
              "      <td>420</td>\n",
              "      <td>13375.87</td>\n",
              "      <td>4</td>\n",
              "      <td>4</td>\n",
              "      <td>4</td>\n",
              "      <td>444</td>\n",
              "      <td>12</td>\n",
              "    </tr>\n",
              "    <tr>\n",
              "      <th>137</th>\n",
              "      <td>12518</td>\n",
              "      <td>0</td>\n",
              "      <td>124</td>\n",
              "      <td>2056.89</td>\n",
              "      <td>4</td>\n",
              "      <td>4</td>\n",
              "      <td>4</td>\n",
              "      <td>444</td>\n",
              "      <td>12</td>\n",
              "    </tr>\n",
              "    <tr>\n",
              "      <th>144</th>\n",
              "      <td>12526</td>\n",
              "      <td>0</td>\n",
              "      <td>71</td>\n",
              "      <td>1316.66</td>\n",
              "      <td>4</td>\n",
              "      <td>3</td>\n",
              "      <td>3</td>\n",
              "      <td>433</td>\n",
              "      <td>10</td>\n",
              "    </tr>\n",
              "    <tr>\n",
              "      <th>258</th>\n",
              "      <td>12662</td>\n",
              "      <td>0</td>\n",
              "      <td>230</td>\n",
              "      <td>3849.78</td>\n",
              "      <td>4</td>\n",
              "      <td>4</td>\n",
              "      <td>4</td>\n",
              "      <td>444</td>\n",
              "      <td>12</td>\n",
              "    </tr>\n",
              "    <tr>\n",
              "      <th>271</th>\n",
              "      <td>12680</td>\n",
              "      <td>0</td>\n",
              "      <td>52</td>\n",
              "      <td>862.81</td>\n",
              "      <td>4</td>\n",
              "      <td>3</td>\n",
              "      <td>3</td>\n",
              "      <td>433</td>\n",
              "      <td>10</td>\n",
              "    </tr>\n",
              "    <tr>\n",
              "      <th>297</th>\n",
              "      <td>12713</td>\n",
              "      <td>0</td>\n",
              "      <td>38</td>\n",
              "      <td>848.55</td>\n",
              "      <td>4</td>\n",
              "      <td>2</td>\n",
              "      <td>3</td>\n",
              "      <td>423</td>\n",
              "      <td>9</td>\n",
              "    </tr>\n",
              "    <tr>\n",
              "      <th>326</th>\n",
              "      <td>12748</td>\n",
              "      <td>0</td>\n",
              "      <td>4595</td>\n",
              "      <td>33719.73</td>\n",
              "      <td>4</td>\n",
              "      <td>4</td>\n",
              "      <td>4</td>\n",
              "      <td>444</td>\n",
              "      <td>12</td>\n",
              "    </tr>\n",
              "    <tr>\n",
              "      <th>489</th>\n",
              "      <td>12985</td>\n",
              "      <td>0</td>\n",
              "      <td>76</td>\n",
              "      <td>1239.38</td>\n",
              "      <td>4</td>\n",
              "      <td>3</td>\n",
              "      <td>3</td>\n",
              "      <td>433</td>\n",
              "      <td>10</td>\n",
              "    </tr>\n",
              "    <tr>\n",
              "      <th>550</th>\n",
              "      <td>13069</td>\n",
              "      <td>0</td>\n",
              "      <td>425</td>\n",
              "      <td>4436.12</td>\n",
              "      <td>4</td>\n",
              "      <td>4</td>\n",
              "      <td>4</td>\n",
              "      <td>444</td>\n",
              "      <td>12</td>\n",
              "    </tr>\n",
              "    <tr>\n",
              "      <th>581</th>\n",
              "      <td>13113</td>\n",
              "      <td>0</td>\n",
              "      <td>200</td>\n",
              "      <td>12245.96</td>\n",
              "      <td>4</td>\n",
              "      <td>4</td>\n",
              "      <td>4</td>\n",
              "      <td>444</td>\n",
              "      <td>12</td>\n",
              "    </tr>\n",
              "    <tr>\n",
              "      <th>807</th>\n",
              "      <td>13426</td>\n",
              "      <td>0</td>\n",
              "      <td>157</td>\n",
              "      <td>3641.32</td>\n",
              "      <td>4</td>\n",
              "      <td>4</td>\n",
              "      <td>4</td>\n",
              "      <td>444</td>\n",
              "      <td>12</td>\n",
              "    </tr>\n",
              "    <tr>\n",
              "      <th>1058</th>\n",
              "      <td>13777</td>\n",
              "      <td>0</td>\n",
              "      <td>197</td>\n",
              "      <td>25977.16</td>\n",
              "      <td>4</td>\n",
              "      <td>4</td>\n",
              "      <td>4</td>\n",
              "      <td>444</td>\n",
              "      <td>12</td>\n",
              "    </tr>\n",
              "    <tr>\n",
              "      <th>1257</th>\n",
              "      <td>14051</td>\n",
              "      <td>0</td>\n",
              "      <td>210</td>\n",
              "      <td>15610.39</td>\n",
              "      <td>4</td>\n",
              "      <td>4</td>\n",
              "      <td>4</td>\n",
              "      <td>444</td>\n",
              "      <td>12</td>\n",
              "    </tr>\n",
              "    <tr>\n",
              "      <th>1521</th>\n",
              "      <td>14422</td>\n",
              "      <td>0</td>\n",
              "      <td>222</td>\n",
              "      <td>4263.64</td>\n",
              "      <td>4</td>\n",
              "      <td>4</td>\n",
              "      <td>4</td>\n",
              "      <td>444</td>\n",
              "      <td>12</td>\n",
              "    </tr>\n",
              "    <tr>\n",
              "      <th>1535</th>\n",
              "      <td>14441</td>\n",
              "      <td>0</td>\n",
              "      <td>51</td>\n",
              "      <td>1712.89</td>\n",
              "      <td>4</td>\n",
              "      <td>3</td>\n",
              "      <td>4</td>\n",
              "      <td>434</td>\n",
              "      <td>11</td>\n",
              "    </tr>\n",
              "    <tr>\n",
              "      <th>1538</th>\n",
              "      <td>14446</td>\n",
              "      <td>0</td>\n",
              "      <td>293</td>\n",
              "      <td>1039.58</td>\n",
              "      <td>4</td>\n",
              "      <td>4</td>\n",
              "      <td>3</td>\n",
              "      <td>443</td>\n",
              "      <td>11</td>\n",
              "    </tr>\n",
              "    <tr>\n",
              "      <th>2176</th>\n",
              "      <td>15311</td>\n",
              "      <td>0</td>\n",
              "      <td>2379</td>\n",
              "      <td>60767.90</td>\n",
              "      <td>4</td>\n",
              "      <td>4</td>\n",
              "      <td>4</td>\n",
              "      <td>444</td>\n",
              "      <td>12</td>\n",
              "    </tr>\n",
              "    <tr>\n",
              "      <th>2200</th>\n",
              "      <td>15344</td>\n",
              "      <td>0</td>\n",
              "      <td>26</td>\n",
              "      <td>563.94</td>\n",
              "      <td>4</td>\n",
              "      <td>2</td>\n",
              "      <td>2</td>\n",
              "      <td>422</td>\n",
              "      <td>8</td>\n",
              "    </tr>\n",
              "    <tr>\n",
              "      <th>2461</th>\n",
              "      <td>15694</td>\n",
              "      <td>0</td>\n",
              "      <td>78</td>\n",
              "      <td>6479.40</td>\n",
              "      <td>4</td>\n",
              "      <td>3</td>\n",
              "      <td>4</td>\n",
              "      <td>434</td>\n",
              "      <td>11</td>\n",
              "    </tr>\n",
              "    <tr>\n",
              "      <th>2542</th>\n",
              "      <td>15804</td>\n",
              "      <td>0</td>\n",
              "      <td>262</td>\n",
              "      <td>4206.39</td>\n",
              "      <td>4</td>\n",
              "      <td>4</td>\n",
              "      <td>4</td>\n",
              "      <td>444</td>\n",
              "      <td>12</td>\n",
              "    </tr>\n",
              "    <tr>\n",
              "      <th>2620</th>\n",
              "      <td>15910</td>\n",
              "      <td>0</td>\n",
              "      <td>267</td>\n",
              "      <td>1232.18</td>\n",
              "      <td>4</td>\n",
              "      <td>4</td>\n",
              "      <td>3</td>\n",
              "      <td>443</td>\n",
              "      <td>11</td>\n",
              "    </tr>\n",
              "    <tr>\n",
              "      <th>3008</th>\n",
              "      <td>16446</td>\n",
              "      <td>0</td>\n",
              "      <td>3</td>\n",
              "      <td>168472.50</td>\n",
              "      <td>4</td>\n",
              "      <td>1</td>\n",
              "      <td>4</td>\n",
              "      <td>414</td>\n",
              "      <td>9</td>\n",
              "    </tr>\n",
              "    <tr>\n",
              "      <th>3088</th>\n",
              "      <td>16558</td>\n",
              "      <td>0</td>\n",
              "      <td>460</td>\n",
              "      <td>8338.49</td>\n",
              "      <td>4</td>\n",
              "      <td>4</td>\n",
              "      <td>4</td>\n",
              "      <td>444</td>\n",
              "      <td>12</td>\n",
              "    </tr>\n",
              "    <tr>\n",
              "      <th>3136</th>\n",
              "      <td>16626</td>\n",
              "      <td>0</td>\n",
              "      <td>179</td>\n",
              "      <td>4413.10</td>\n",
              "      <td>4</td>\n",
              "      <td>4</td>\n",
              "      <td>4</td>\n",
              "      <td>444</td>\n",
              "      <td>12</td>\n",
              "    </tr>\n",
              "    <tr>\n",
              "      <th>3189</th>\n",
              "      <td>16705</td>\n",
              "      <td>0</td>\n",
              "      <td>270</td>\n",
              "      <td>14034.99</td>\n",
              "      <td>4</td>\n",
              "      <td>4</td>\n",
              "      <td>4</td>\n",
              "      <td>444</td>\n",
              "      <td>12</td>\n",
              "    </tr>\n",
              "    <tr>\n",
              "      <th>3381</th>\n",
              "      <td>16954</td>\n",
              "      <td>0</td>\n",
              "      <td>54</td>\n",
              "      <td>2085.08</td>\n",
              "      <td>4</td>\n",
              "      <td>3</td>\n",
              "      <td>4</td>\n",
              "      <td>434</td>\n",
              "      <td>11</td>\n",
              "    </tr>\n",
              "    <tr>\n",
              "      <th>3413</th>\n",
              "      <td>17001</td>\n",
              "      <td>0</td>\n",
              "      <td>169</td>\n",
              "      <td>3989.57</td>\n",
              "      <td>4</td>\n",
              "      <td>4</td>\n",
              "      <td>4</td>\n",
              "      <td>444</td>\n",
              "      <td>12</td>\n",
              "    </tr>\n",
              "    <tr>\n",
              "      <th>3662</th>\n",
              "      <td>17364</td>\n",
              "      <td>0</td>\n",
              "      <td>411</td>\n",
              "      <td>4481.18</td>\n",
              "      <td>4</td>\n",
              "      <td>4</td>\n",
              "      <td>4</td>\n",
              "      <td>444</td>\n",
              "      <td>12</td>\n",
              "    </tr>\n",
              "    <tr>\n",
              "      <th>3683</th>\n",
              "      <td>17389</td>\n",
              "      <td>0</td>\n",
              "      <td>213</td>\n",
              "      <td>31833.68</td>\n",
              "      <td>4</td>\n",
              "      <td>4</td>\n",
              "      <td>4</td>\n",
              "      <td>444</td>\n",
              "      <td>12</td>\n",
              "    </tr>\n",
              "    <tr>\n",
              "      <th>3712</th>\n",
              "      <td>17428</td>\n",
              "      <td>0</td>\n",
              "      <td>328</td>\n",
              "      <td>17256.85</td>\n",
              "      <td>4</td>\n",
              "      <td>4</td>\n",
              "      <td>4</td>\n",
              "      <td>444</td>\n",
              "      <td>12</td>\n",
              "    </tr>\n",
              "    <tr>\n",
              "      <th>3753</th>\n",
              "      <td>17490</td>\n",
              "      <td>0</td>\n",
              "      <td>76</td>\n",
              "      <td>2092.32</td>\n",
              "      <td>4</td>\n",
              "      <td>3</td>\n",
              "      <td>4</td>\n",
              "      <td>434</td>\n",
              "      <td>11</td>\n",
              "    </tr>\n",
              "    <tr>\n",
              "      <th>3823</th>\n",
              "      <td>17581</td>\n",
              "      <td>0</td>\n",
              "      <td>440</td>\n",
              "      <td>11045.04</td>\n",
              "      <td>4</td>\n",
              "      <td>4</td>\n",
              "      <td>4</td>\n",
              "      <td>444</td>\n",
              "      <td>12</td>\n",
              "    </tr>\n",
              "    <tr>\n",
              "      <th>3954</th>\n",
              "      <td>17754</td>\n",
              "      <td>0</td>\n",
              "      <td>92</td>\n",
              "      <td>1772.26</td>\n",
              "      <td>4</td>\n",
              "      <td>3</td>\n",
              "      <td>4</td>\n",
              "      <td>434</td>\n",
              "      <td>11</td>\n",
              "    </tr>\n",
              "    <tr>\n",
              "      <th>4201</th>\n",
              "      <td>18102</td>\n",
              "      <td>0</td>\n",
              "      <td>431</td>\n",
              "      <td>259657.30</td>\n",
              "      <td>4</td>\n",
              "      <td>4</td>\n",
              "      <td>4</td>\n",
              "      <td>444</td>\n",
              "      <td>12</td>\n",
              "    </tr>\n",
              "  </tbody>\n",
              "</table>\n",
              "</div>"
            ],
            "text/plain": [
              "      CustomerID  Recency  Frequency  ...  m_quartile  RFM_Segement  RFM_Score\n",
              "61         12423        0        125  ...           4           444         12\n",
              "71         12433        0        420  ...           4           444         12\n",
              "137        12518        0        124  ...           4           444         12\n",
              "144        12526        0         71  ...           3           433         10\n",
              "258        12662        0        230  ...           4           444         12\n",
              "271        12680        0         52  ...           3           433         10\n",
              "297        12713        0         38  ...           3           423          9\n",
              "326        12748        0       4595  ...           4           444         12\n",
              "489        12985        0         76  ...           3           433         10\n",
              "550        13069        0        425  ...           4           444         12\n",
              "581        13113        0        200  ...           4           444         12\n",
              "807        13426        0        157  ...           4           444         12\n",
              "1058       13777        0        197  ...           4           444         12\n",
              "1257       14051        0        210  ...           4           444         12\n",
              "1521       14422        0        222  ...           4           444         12\n",
              "1535       14441        0         51  ...           4           434         11\n",
              "1538       14446        0        293  ...           3           443         11\n",
              "2176       15311        0       2379  ...           4           444         12\n",
              "2200       15344        0         26  ...           2           422          8\n",
              "2461       15694        0         78  ...           4           434         11\n",
              "2542       15804        0        262  ...           4           444         12\n",
              "2620       15910        0        267  ...           3           443         11\n",
              "3008       16446        0          3  ...           4           414          9\n",
              "3088       16558        0        460  ...           4           444         12\n",
              "3136       16626        0        179  ...           4           444         12\n",
              "3189       16705        0        270  ...           4           444         12\n",
              "3381       16954        0         54  ...           4           434         11\n",
              "3413       17001        0        169  ...           4           444         12\n",
              "3662       17364        0        411  ...           4           444         12\n",
              "3683       17389        0        213  ...           4           444         12\n",
              "3712       17428        0        328  ...           4           444         12\n",
              "3753       17490        0         76  ...           4           434         11\n",
              "3823       17581        0        440  ...           4           444         12\n",
              "3954       17754        0         92  ...           4           434         11\n",
              "4201       18102        0        431  ...           4           444         12\n",
              "\n",
              "[35 rows x 9 columns]"
            ]
          },
          "metadata": {
            "tags": []
          },
          "execution_count": 27
        }
      ]
    },
    {
      "cell_type": "code",
      "metadata": {
        "colab": {
          "base_uri": "https://localhost:8080/",
          "height": 196
        },
        "id": "RDI9EKztKYlk",
        "outputId": "f68d894b-2dc3-4afd-c14c-7ffe7ef3de34"
      },
      "source": [
        "data.head()"
      ],
      "execution_count": 28,
      "outputs": [
        {
          "output_type": "execute_result",
          "data": {
            "text/html": [
              "<div>\n",
              "<style scoped>\n",
              "    .dataframe tbody tr th:only-of-type {\n",
              "        vertical-align: middle;\n",
              "    }\n",
              "\n",
              "    .dataframe tbody tr th {\n",
              "        vertical-align: top;\n",
              "    }\n",
              "\n",
              "    .dataframe thead th {\n",
              "        text-align: right;\n",
              "    }\n",
              "</style>\n",
              "<table border=\"1\" class=\"dataframe\">\n",
              "  <thead>\n",
              "    <tr style=\"text-align: right;\">\n",
              "      <th></th>\n",
              "      <th>CustomerID</th>\n",
              "      <th>Recency</th>\n",
              "      <th>Frequency</th>\n",
              "      <th>Monetary</th>\n",
              "      <th>r_quartile</th>\n",
              "      <th>f_quartile</th>\n",
              "      <th>m_quartile</th>\n",
              "      <th>RFM_Segement</th>\n",
              "      <th>RFM_Score</th>\n",
              "    </tr>\n",
              "  </thead>\n",
              "  <tbody>\n",
              "    <tr>\n",
              "      <th>0</th>\n",
              "      <td>12346</td>\n",
              "      <td>325</td>\n",
              "      <td>1</td>\n",
              "      <td>77183.60</td>\n",
              "      <td>1</td>\n",
              "      <td>1</td>\n",
              "      <td>4</td>\n",
              "      <td>114</td>\n",
              "      <td>6</td>\n",
              "    </tr>\n",
              "    <tr>\n",
              "      <th>1</th>\n",
              "      <td>12347</td>\n",
              "      <td>2</td>\n",
              "      <td>182</td>\n",
              "      <td>4310.00</td>\n",
              "      <td>4</td>\n",
              "      <td>4</td>\n",
              "      <td>4</td>\n",
              "      <td>444</td>\n",
              "      <td>12</td>\n",
              "    </tr>\n",
              "    <tr>\n",
              "      <th>2</th>\n",
              "      <td>12348</td>\n",
              "      <td>75</td>\n",
              "      <td>31</td>\n",
              "      <td>1797.24</td>\n",
              "      <td>2</td>\n",
              "      <td>2</td>\n",
              "      <td>4</td>\n",
              "      <td>224</td>\n",
              "      <td>8</td>\n",
              "    </tr>\n",
              "    <tr>\n",
              "      <th>3</th>\n",
              "      <td>12349</td>\n",
              "      <td>18</td>\n",
              "      <td>73</td>\n",
              "      <td>1757.55</td>\n",
              "      <td>3</td>\n",
              "      <td>3</td>\n",
              "      <td>4</td>\n",
              "      <td>334</td>\n",
              "      <td>10</td>\n",
              "    </tr>\n",
              "    <tr>\n",
              "      <th>4</th>\n",
              "      <td>12350</td>\n",
              "      <td>310</td>\n",
              "      <td>17</td>\n",
              "      <td>334.40</td>\n",
              "      <td>1</td>\n",
              "      <td>1</td>\n",
              "      <td>2</td>\n",
              "      <td>112</td>\n",
              "      <td>4</td>\n",
              "    </tr>\n",
              "  </tbody>\n",
              "</table>\n",
              "</div>"
            ],
            "text/plain": [
              "   CustomerID  Recency  Frequency  ...  m_quartile  RFM_Segement  RFM_Score\n",
              "0       12346      325          1  ...           4           114          6\n",
              "1       12347        2        182  ...           4           444         12\n",
              "2       12348       75         31  ...           4           224          8\n",
              "3       12349       18         73  ...           4           334         10\n",
              "4       12350      310         17  ...           2           112          4\n",
              "\n",
              "[5 rows x 9 columns]"
            ]
          },
          "metadata": {
            "tags": []
          },
          "execution_count": 28
        }
      ]
    },
    {
      "cell_type": "code",
      "metadata": {
        "id": "zXcZ_RAhScds"
      },
      "source": [
        "data = data[data['Recency'] > 0]\r\n",
        "data.reset_index(drop=True,inplace=True)"
      ],
      "execution_count": 29,
      "outputs": []
    },
    {
      "cell_type": "code",
      "metadata": {
        "colab": {
          "base_uri": "https://localhost:8080/",
          "height": 196
        },
        "id": "DAOzykAtUbs2",
        "outputId": "aacfc0ca-8392-4ba7-afc8-6fc317b5495f"
      },
      "source": [
        "data.head()"
      ],
      "execution_count": 30,
      "outputs": [
        {
          "output_type": "execute_result",
          "data": {
            "text/html": [
              "<div>\n",
              "<style scoped>\n",
              "    .dataframe tbody tr th:only-of-type {\n",
              "        vertical-align: middle;\n",
              "    }\n",
              "\n",
              "    .dataframe tbody tr th {\n",
              "        vertical-align: top;\n",
              "    }\n",
              "\n",
              "    .dataframe thead th {\n",
              "        text-align: right;\n",
              "    }\n",
              "</style>\n",
              "<table border=\"1\" class=\"dataframe\">\n",
              "  <thead>\n",
              "    <tr style=\"text-align: right;\">\n",
              "      <th></th>\n",
              "      <th>CustomerID</th>\n",
              "      <th>Recency</th>\n",
              "      <th>Frequency</th>\n",
              "      <th>Monetary</th>\n",
              "      <th>r_quartile</th>\n",
              "      <th>f_quartile</th>\n",
              "      <th>m_quartile</th>\n",
              "      <th>RFM_Segement</th>\n",
              "      <th>RFM_Score</th>\n",
              "    </tr>\n",
              "  </thead>\n",
              "  <tbody>\n",
              "    <tr>\n",
              "      <th>0</th>\n",
              "      <td>12346</td>\n",
              "      <td>325</td>\n",
              "      <td>1</td>\n",
              "      <td>77183.60</td>\n",
              "      <td>1</td>\n",
              "      <td>1</td>\n",
              "      <td>4</td>\n",
              "      <td>114</td>\n",
              "      <td>6</td>\n",
              "    </tr>\n",
              "    <tr>\n",
              "      <th>1</th>\n",
              "      <td>12347</td>\n",
              "      <td>2</td>\n",
              "      <td>182</td>\n",
              "      <td>4310.00</td>\n",
              "      <td>4</td>\n",
              "      <td>4</td>\n",
              "      <td>4</td>\n",
              "      <td>444</td>\n",
              "      <td>12</td>\n",
              "    </tr>\n",
              "    <tr>\n",
              "      <th>2</th>\n",
              "      <td>12348</td>\n",
              "      <td>75</td>\n",
              "      <td>31</td>\n",
              "      <td>1797.24</td>\n",
              "      <td>2</td>\n",
              "      <td>2</td>\n",
              "      <td>4</td>\n",
              "      <td>224</td>\n",
              "      <td>8</td>\n",
              "    </tr>\n",
              "    <tr>\n",
              "      <th>3</th>\n",
              "      <td>12349</td>\n",
              "      <td>18</td>\n",
              "      <td>73</td>\n",
              "      <td>1757.55</td>\n",
              "      <td>3</td>\n",
              "      <td>3</td>\n",
              "      <td>4</td>\n",
              "      <td>334</td>\n",
              "      <td>10</td>\n",
              "    </tr>\n",
              "    <tr>\n",
              "      <th>4</th>\n",
              "      <td>12350</td>\n",
              "      <td>310</td>\n",
              "      <td>17</td>\n",
              "      <td>334.40</td>\n",
              "      <td>1</td>\n",
              "      <td>1</td>\n",
              "      <td>2</td>\n",
              "      <td>112</td>\n",
              "      <td>4</td>\n",
              "    </tr>\n",
              "  </tbody>\n",
              "</table>\n",
              "</div>"
            ],
            "text/plain": [
              "   CustomerID  Recency  Frequency  ...  m_quartile  RFM_Segement  RFM_Score\n",
              "0       12346      325          1  ...           4           114          6\n",
              "1       12347        2        182  ...           4           444         12\n",
              "2       12348       75         31  ...           4           224          8\n",
              "3       12349       18         73  ...           4           334         10\n",
              "4       12350      310         17  ...           2           112          4\n",
              "\n",
              "[5 rows x 9 columns]"
            ]
          },
          "metadata": {
            "tags": []
          },
          "execution_count": 30
        }
      ]
    },
    {
      "cell_type": "code",
      "metadata": {
        "id": "s3Cz1gw8OLVF"
      },
      "source": [
        "##Let us now apply log transformation to the data and normalize it.\r\n",
        "# Unskew the data\r\n",
        "raw_data = data[['Recency','Frequency','Monetary']]\r\n",
        "data_log = np.log(raw_data)\r\n",
        "\r\n",
        "# Initialize a standard scaler and fit it\r\n",
        "scaler = StandardScaler()\r\n",
        "scaler.fit(data_log)\r\n",
        "\r\n",
        "# Scale and center the data\r\n",
        "data_normalized = scaler.transform(data_log)\r\n",
        "\r\n",
        "# Create a pandas DataFrame\r\n",
        "data_norm = pd.DataFrame(data=data_log, index=raw_data.index, columns=raw_data.columns)\r\n"
      ],
      "execution_count": 31,
      "outputs": []
    },
    {
      "cell_type": "code",
      "metadata": {
        "colab": {
          "base_uri": "https://localhost:8080/",
          "height": 196
        },
        "id": "vwTxCEuuOa7a",
        "outputId": "649dd00f-a07d-4fbd-c65a-be2a2f9d2a60"
      },
      "source": [
        "data_norm.head()"
      ],
      "execution_count": 32,
      "outputs": [
        {
          "output_type": "execute_result",
          "data": {
            "text/html": [
              "<div>\n",
              "<style scoped>\n",
              "    .dataframe tbody tr th:only-of-type {\n",
              "        vertical-align: middle;\n",
              "    }\n",
              "\n",
              "    .dataframe tbody tr th {\n",
              "        vertical-align: top;\n",
              "    }\n",
              "\n",
              "    .dataframe thead th {\n",
              "        text-align: right;\n",
              "    }\n",
              "</style>\n",
              "<table border=\"1\" class=\"dataframe\">\n",
              "  <thead>\n",
              "    <tr style=\"text-align: right;\">\n",
              "      <th></th>\n",
              "      <th>Recency</th>\n",
              "      <th>Frequency</th>\n",
              "      <th>Monetary</th>\n",
              "    </tr>\n",
              "  </thead>\n",
              "  <tbody>\n",
              "    <tr>\n",
              "      <th>0</th>\n",
              "      <td>5.783825</td>\n",
              "      <td>0.000000</td>\n",
              "      <td>11.253942</td>\n",
              "    </tr>\n",
              "    <tr>\n",
              "      <th>1</th>\n",
              "      <td>0.693147</td>\n",
              "      <td>5.204007</td>\n",
              "      <td>8.368693</td>\n",
              "    </tr>\n",
              "    <tr>\n",
              "      <th>2</th>\n",
              "      <td>4.317488</td>\n",
              "      <td>3.433987</td>\n",
              "      <td>7.494007</td>\n",
              "    </tr>\n",
              "    <tr>\n",
              "      <th>3</th>\n",
              "      <td>2.890372</td>\n",
              "      <td>4.290459</td>\n",
              "      <td>7.471676</td>\n",
              "    </tr>\n",
              "    <tr>\n",
              "      <th>4</th>\n",
              "      <td>5.736572</td>\n",
              "      <td>2.833213</td>\n",
              "      <td>5.812338</td>\n",
              "    </tr>\n",
              "  </tbody>\n",
              "</table>\n",
              "</div>"
            ],
            "text/plain": [
              "    Recency  Frequency   Monetary\n",
              "0  5.783825   0.000000  11.253942\n",
              "1  0.693147   5.204007   8.368693\n",
              "2  4.317488   3.433987   7.494007\n",
              "3  2.890372   4.290459   7.471676\n",
              "4  5.736572   2.833213   5.812338"
            ]
          },
          "metadata": {
            "tags": []
          },
          "execution_count": 32
        }
      ]
    },
    {
      "cell_type": "code",
      "metadata": {
        "colab": {
          "base_uri": "https://localhost:8080/",
          "height": 726
        },
        "id": "nyxo25OVSiOw",
        "outputId": "2b6fb090-ff55-41b5-ff2a-541ef2a31038"
      },
      "source": [
        "\r\n",
        "plt.figure(figsize=(12,10))\r\n",
        "\r\n",
        "# Plot recency distribution\r\n",
        "plt.subplot(3, 1, 1); sns.distplot(data_norm['Recency'])\r\n",
        "\r\n",
        "# Plot frequency distribution\r\n",
        "plt.subplot(3, 1, 2); sns.distplot(data_norm['Frequency'])\r\n",
        "\r\n",
        "# Plot monetary value distribution\r\n",
        "plt.subplot(3, 1, 3); sns.distplot(data_norm['Monetary'])\r\n",
        "\r\n",
        "# Show the plot\r\n",
        "plt.show()"
      ],
      "execution_count": 33,
      "outputs": [
        {
          "output_type": "stream",
          "text": [
            "/usr/local/lib/python3.6/dist-packages/seaborn/distributions.py:2557: FutureWarning: `distplot` is a deprecated function and will be removed in a future version. Please adapt your code to use either `displot` (a figure-level function with similar flexibility) or `histplot` (an axes-level function for histograms).\n",
            "  warnings.warn(msg, FutureWarning)\n",
            "/usr/local/lib/python3.6/dist-packages/seaborn/distributions.py:2557: FutureWarning: `distplot` is a deprecated function and will be removed in a future version. Please adapt your code to use either `displot` (a figure-level function with similar flexibility) or `histplot` (an axes-level function for histograms).\n",
            "  warnings.warn(msg, FutureWarning)\n",
            "/usr/local/lib/python3.6/dist-packages/seaborn/distributions.py:2557: FutureWarning: `distplot` is a deprecated function and will be removed in a future version. Please adapt your code to use either `displot` (a figure-level function with similar flexibility) or `histplot` (an axes-level function for histograms).\n",
            "  warnings.warn(msg, FutureWarning)\n"
          ],
          "name": "stderr"
        },
        {
          "output_type": "display_data",
          "data": {
            "image/png": "[encoded data removed]",
            "text/plain": [
              "<Figure size 864x720 with 3 Axes>"
            ]
          },
          "metadata": {
            "tags": [],
            "needs_background": "light"
          }
        }
      ]
    },
    {
      "cell_type": "code",
      "metadata": {
        "id": "AVJpu-WkSkLK"
      },
      "source": [
        "from sklearn.cluster import KMeans"
      ],
      "execution_count": 34,
      "outputs": []
    },
    {
      "cell_type": "code",
      "metadata": {
        "id": "U6VmqbDuSoWa"
      },
      "source": [
        "sse = {}\r\n",
        "\r\n",
        "# Fit KMeans and calculate SSE for each k\r\n",
        "for k in range(1, 21):\r\n",
        "  \r\n",
        "    # Initialize KMeans with k clusters\r\n",
        "    kmeans = KMeans(n_clusters=k, random_state=1)\r\n",
        "    \r\n",
        "    # Fit KMeans on the normalized dataset\r\n",
        "    kmeans.fit(data_norm)\r\n",
        "    \r\n",
        "    # Assign sum of squared distances to k element of dictionary\r\n",
        "    sse[k] = kmeans.inertia_"
      ],
      "execution_count": 35,
      "outputs": []
    },
    {
      "cell_type": "code",
      "metadata": {
        "colab": {
          "base_uri": "https://localhost:8080/",
          "height": 513
        },
        "id": "MRaN-UIeS7ZJ",
        "outputId": "3017cc10-eece-4e6b-f264-f6259ff72e98"
      },
      "source": [
        "plt.figure(figsize=(12,8))\r\n",
        "\r\n",
        "plt.title('The Elbow Method')\r\n",
        "plt.xlabel('k'); \r\n",
        "plt.ylabel('Sum of squared errors')\r\n",
        "sns.pointplot(x=list(sse.keys()), y=list(sse.values()))\r\n",
        "plt.show()"
      ],
      "execution_count": 36,
      "outputs": [
        {
          "output_type": "display_data",
          "data": {
            "image/png": "[encoded data removed]",
            "text/plain": [
              "<Figure size 864x576 with 1 Axes>"
            ]
          },
          "metadata": {
            "tags": [],
            "needs_background": "light"
          }
        }
      ]
    },
    {
      "cell_type": "code",
      "metadata": {
        "id": "-jnZWV12S9CW"
      },
      "source": [
        "kmeans = KMeans(n_clusters=3, random_state=1)\r\n",
        "\r\n",
        "# Compute k-means clustering on pre-processed data\r\n",
        "kmeans.fit(data_norm)\r\n",
        "\r\n",
        "# Extract cluster labels from labels_ attribute\r\n",
        "cluster_labels = kmeans.labels_"
      ],
      "execution_count": 37,
      "outputs": []
    },
    {
      "cell_type": "code",
      "metadata": {
        "colab": {
          "base_uri": "https://localhost:8080/",
          "height": 196
        },
        "id": "1iJ8cGjYS_7b",
        "outputId": "a61f0543-b039-447c-8523-6c294b2ba32d"
      },
      "source": [
        "# Create a cluster label column in the original DataFrame\r\n",
        "data_norm_k3 = data_norm.assign(Cluster = cluster_labels)\r\n",
        "data_k3 = raw_data.assign(Cluster = cluster_labels)\r\n",
        "\r\n",
        "# Calculate average RFM values and size for each cluster\r\n",
        "summary_k3 = data_k3.groupby(['Cluster']).agg({'Recency': 'mean',\r\n",
        "                                                    'Frequency': 'mean',\r\n",
        "                                                    'Monetary': ['mean', 'count'],}).round(0)\r\n",
        "\r\n",
        "summary_k3"
      ],
      "execution_count": 38,
      "outputs": [
        {
          "output_type": "execute_result",
          "data": {
            "text/html": [
              "<div>\n",
              "<style scoped>\n",
              "    .dataframe tbody tr th:only-of-type {\n",
              "        vertical-align: middle;\n",
              "    }\n",
              "\n",
              "    .dataframe tbody tr th {\n",
              "        vertical-align: top;\n",
              "    }\n",
              "\n",
              "    .dataframe thead tr th {\n",
              "        text-align: left;\n",
              "    }\n",
              "\n",
              "    .dataframe thead tr:last-of-type th {\n",
              "        text-align: right;\n",
              "    }\n",
              "</style>\n",
              "<table border=\"1\" class=\"dataframe\">\n",
              "  <thead>\n",
              "    <tr>\n",
              "      <th></th>\n",
              "      <th>Recency</th>\n",
              "      <th>Frequency</th>\n",
              "      <th colspan=\"2\" halign=\"left\">Monetary</th>\n",
              "    </tr>\n",
              "    <tr>\n",
              "      <th></th>\n",
              "      <th>mean</th>\n",
              "      <th>mean</th>\n",
              "      <th>mean</th>\n",
              "      <th>count</th>\n",
              "    </tr>\n",
              "    <tr>\n",
              "      <th>Cluster</th>\n",
              "      <th></th>\n",
              "      <th></th>\n",
              "      <th></th>\n",
              "      <th></th>\n",
              "    </tr>\n",
              "  </thead>\n",
              "  <tbody>\n",
              "    <tr>\n",
              "      <th>0</th>\n",
              "      <td>11.0</td>\n",
              "      <td>241.0</td>\n",
              "      <td>5587.0</td>\n",
              "      <td>984</td>\n",
              "    </tr>\n",
              "    <tr>\n",
              "      <th>1</th>\n",
              "      <td>175.0</td>\n",
              "      <td>15.0</td>\n",
              "      <td>302.0</td>\n",
              "      <td>1501</td>\n",
              "    </tr>\n",
              "    <tr>\n",
              "      <th>2</th>\n",
              "      <td>69.0</td>\n",
              "      <td>69.0</td>\n",
              "      <td>1226.0</td>\n",
              "      <td>1818</td>\n",
              "    </tr>\n",
              "  </tbody>\n",
              "</table>\n",
              "</div>"
            ],
            "text/plain": [
              "        Recency Frequency Monetary      \n",
              "           mean      mean     mean count\n",
              "Cluster                                 \n",
              "0          11.0     241.0   5587.0   984\n",
              "1         175.0      15.0    302.0  1501\n",
              "2          69.0      69.0   1226.0  1818"
            ]
          },
          "metadata": {
            "tags": []
          },
          "execution_count": 38
        }
      ]
    },
    {
      "cell_type": "code",
      "metadata": {
        "id": "NKwfsTwJTCyN"
      },
      "source": [
        "\r\n",
        "kmeans = KMeans(n_clusters=4, random_state=1)\r\n",
        "\r\n",
        "# Compute k-means clustering on pre-processed data\r\n",
        "kmeans.fit(data_norm)\r\n",
        "\r\n",
        "# Extract cluster labels from labels_ attribute\r\n",
        "cluster_labels = kmeans.labels_"
      ],
      "execution_count": 39,
      "outputs": []
    },
    {
      "cell_type": "code",
      "metadata": {
        "colab": {
          "base_uri": "https://localhost:8080/",
          "height": 226
        },
        "id": "Exo-_XHBTGqH",
        "outputId": "5d972e02-afa1-42fa-b474-23c018891e76"
      },
      "source": [
        "# Create a cluster label column in the original DataFrame\r\n",
        "data_norm_k4 = data_norm.assign(Cluster = cluster_labels)\r\n",
        "data_k4 = raw_data.assign(Cluster = cluster_labels)\r\n",
        "\r\n",
        "# Calculate average RFM values and size for each cluster\r\n",
        "summary_k4 = data_k4.groupby(['Cluster']).agg({'Recency': 'mean',\r\n",
        "                                                    'Frequency': 'mean',\r\n",
        "                                                    'Monetary': ['mean', 'count'],}).round(0)\r\n",
        "\r\n",
        "summary_k4"
      ],
      "execution_count": 40,
      "outputs": [
        {
          "output_type": "execute_result",
          "data": {
            "text/html": [
              "<div>\n",
              "<style scoped>\n",
              "    .dataframe tbody tr th:only-of-type {\n",
              "        vertical-align: middle;\n",
              "    }\n",
              "\n",
              "    .dataframe tbody tr th {\n",
              "        vertical-align: top;\n",
              "    }\n",
              "\n",
              "    .dataframe thead tr th {\n",
              "        text-align: left;\n",
              "    }\n",
              "\n",
              "    .dataframe thead tr:last-of-type th {\n",
              "        text-align: right;\n",
              "    }\n",
              "</style>\n",
              "<table border=\"1\" class=\"dataframe\">\n",
              "  <thead>\n",
              "    <tr>\n",
              "      <th></th>\n",
              "      <th>Recency</th>\n",
              "      <th>Frequency</th>\n",
              "      <th colspan=\"2\" halign=\"left\">Monetary</th>\n",
              "    </tr>\n",
              "    <tr>\n",
              "      <th></th>\n",
              "      <th>mean</th>\n",
              "      <th>mean</th>\n",
              "      <th>mean</th>\n",
              "      <th>count</th>\n",
              "    </tr>\n",
              "    <tr>\n",
              "      <th>Cluster</th>\n",
              "      <th></th>\n",
              "      <th></th>\n",
              "      <th></th>\n",
              "      <th></th>\n",
              "    </tr>\n",
              "  </thead>\n",
              "  <tbody>\n",
              "    <tr>\n",
              "      <th>0</th>\n",
              "      <td>199.0</td>\n",
              "      <td>16.0</td>\n",
              "      <td>319.0</td>\n",
              "      <td>1308</td>\n",
              "    </tr>\n",
              "    <tr>\n",
              "      <th>1</th>\n",
              "      <td>83.0</td>\n",
              "      <td>88.0</td>\n",
              "      <td>1616.0</td>\n",
              "      <td>1345</td>\n",
              "    </tr>\n",
              "    <tr>\n",
              "      <th>2</th>\n",
              "      <td>24.0</td>\n",
              "      <td>29.0</td>\n",
              "      <td>467.0</td>\n",
              "      <td>810</td>\n",
              "    </tr>\n",
              "    <tr>\n",
              "      <th>3</th>\n",
              "      <td>10.0</td>\n",
              "      <td>263.0</td>\n",
              "      <td>6205.0</td>\n",
              "      <td>840</td>\n",
              "    </tr>\n",
              "  </tbody>\n",
              "</table>\n",
              "</div>"
            ],
            "text/plain": [
              "        Recency Frequency Monetary      \n",
              "           mean      mean     mean count\n",
              "Cluster                                 \n",
              "0         199.0      16.0    319.0  1308\n",
              "1          83.0      88.0   1616.0  1345\n",
              "2          24.0      29.0    467.0   810\n",
              "3          10.0     263.0   6205.0   840"
            ]
          },
          "metadata": {
            "tags": []
          },
          "execution_count": 40
        }
      ]
    },
    {
      "cell_type": "code",
      "metadata": {
        "colab": {
          "base_uri": "https://localhost:8080/",
          "height": 406
        },
        "id": "zJAL6IH7TI2K",
        "outputId": "700adddc-fa8e-4acb-c513-9179364dfd77"
      },
      "source": [
        "display(summary_k3)\r\n",
        "display(summary_k4)"
      ],
      "execution_count": 41,
      "outputs": [
        {
          "output_type": "display_data",
          "data": {
            "text/html": [
              "<div>\n",
              "<style scoped>\n",
              "    .dataframe tbody tr th:only-of-type {\n",
              "        vertical-align: middle;\n",
              "    }\n",
              "\n",
              "    .dataframe tbody tr th {\n",
              "        vertical-align: top;\n",
              "    }\n",
              "\n",
              "    .dataframe thead tr th {\n",
              "        text-align: left;\n",
              "    }\n",
              "\n",
              "    .dataframe thead tr:last-of-type th {\n",
              "        text-align: right;\n",
              "    }\n",
              "</style>\n",
              "<table border=\"1\" class=\"dataframe\">\n",
              "  <thead>\n",
              "    <tr>\n",
              "      <th></th>\n",
              "      <th>Recency</th>\n",
              "      <th>Frequency</th>\n",
              "      <th colspan=\"2\" halign=\"left\">Monetary</th>\n",
              "    </tr>\n",
              "    <tr>\n",
              "      <th></th>\n",
              "      <th>mean</th>\n",
              "      <th>mean</th>\n",
              "      <th>mean</th>\n",
              "      <th>count</th>\n",
              "    </tr>\n",
              "    <tr>\n",
              "      <th>Cluster</th>\n",
              "      <th></th>\n",
              "      <th></th>\n",
              "      <th></th>\n",
              "      <th></th>\n",
              "    </tr>\n",
              "  </thead>\n",
              "  <tbody>\n",
              "    <tr>\n",
              "      <th>0</th>\n",
              "      <td>11.0</td>\n",
              "      <td>241.0</td>\n",
              "      <td>5587.0</td>\n",
              "      <td>984</td>\n",
              "    </tr>\n",
              "    <tr>\n",
              "      <th>1</th>\n",
              "      <td>175.0</td>\n",
              "      <td>15.0</td>\n",
              "      <td>302.0</td>\n",
              "      <td>1501</td>\n",
              "    </tr>\n",
              "    <tr>\n",
              "      <th>2</th>\n",
              "      <td>69.0</td>\n",
              "      <td>69.0</td>\n",
              "      <td>1226.0</td>\n",
              "      <td>1818</td>\n",
              "    </tr>\n",
              "  </tbody>\n",
              "</table>\n",
              "</div>"
            ],
            "text/plain": [
              "        Recency Frequency Monetary      \n",
              "           mean      mean     mean count\n",
              "Cluster                                 \n",
              "0          11.0     241.0   5587.0   984\n",
              "1         175.0      15.0    302.0  1501\n",
              "2          69.0      69.0   1226.0  1818"
            ]
          },
          "metadata": {
            "tags": []
          }
        },
        {
          "output_type": "display_data",
          "data": {
            "text/html": [
              "<div>\n",
              "<style scoped>\n",
              "    .dataframe tbody tr th:only-of-type {\n",
              "        vertical-align: middle;\n",
              "    }\n",
              "\n",
              "    .dataframe tbody tr th {\n",
              "        vertical-align: top;\n",
              "    }\n",
              "\n",
              "    .dataframe thead tr th {\n",
              "        text-align: left;\n",
              "    }\n",
              "\n",
              "    .dataframe thead tr:last-of-type th {\n",
              "        text-align: right;\n",
              "    }\n",
              "</style>\n",
              "<table border=\"1\" class=\"dataframe\">\n",
              "  <thead>\n",
              "    <tr>\n",
              "      <th></th>\n",
              "      <th>Recency</th>\n",
              "      <th>Frequency</th>\n",
              "      <th colspan=\"2\" halign=\"left\">Monetary</th>\n",
              "    </tr>\n",
              "    <tr>\n",
              "      <th></th>\n",
              "      <th>mean</th>\n",
              "      <th>mean</th>\n",
              "      <th>mean</th>\n",
              "      <th>count</th>\n",
              "    </tr>\n",
              "    <tr>\n",
              "      <th>Cluster</th>\n",
              "      <th></th>\n",
              "      <th></th>\n",
              "      <th></th>\n",
              "      <th></th>\n",
              "    </tr>\n",
              "  </thead>\n",
              "  <tbody>\n",
              "    <tr>\n",
              "      <th>0</th>\n",
              "      <td>199.0</td>\n",
              "      <td>16.0</td>\n",
              "      <td>319.0</td>\n",
              "      <td>1308</td>\n",
              "    </tr>\n",
              "    <tr>\n",
              "      <th>1</th>\n",
              "      <td>83.0</td>\n",
              "      <td>88.0</td>\n",
              "      <td>1616.0</td>\n",
              "      <td>1345</td>\n",
              "    </tr>\n",
              "    <tr>\n",
              "      <th>2</th>\n",
              "      <td>24.0</td>\n",
              "      <td>29.0</td>\n",
              "      <td>467.0</td>\n",
              "      <td>810</td>\n",
              "    </tr>\n",
              "    <tr>\n",
              "      <th>3</th>\n",
              "      <td>10.0</td>\n",
              "      <td>263.0</td>\n",
              "      <td>6205.0</td>\n",
              "      <td>840</td>\n",
              "    </tr>\n",
              "  </tbody>\n",
              "</table>\n",
              "</div>"
            ],
            "text/plain": [
              "        Recency Frequency Monetary      \n",
              "           mean      mean     mean count\n",
              "Cluster                                 \n",
              "0         199.0      16.0    319.0  1308\n",
              "1          83.0      88.0   1616.0  1345\n",
              "2          24.0      29.0    467.0   810\n",
              "3          10.0     263.0   6205.0   840"
            ]
          },
          "metadata": {
            "tags": []
          }
        }
      ]
    },
    {
      "cell_type": "code",
      "metadata": {
        "colab": {
          "base_uri": "https://localhost:8080/",
          "height": 196
        },
        "id": "1BGMaS3GTldj",
        "outputId": "271a99b4-4177-4b57-eb8e-b81d0ca1a5d4"
      },
      "source": [
        "data.head()"
      ],
      "execution_count": 42,
      "outputs": [
        {
          "output_type": "execute_result",
          "data": {
            "text/html": [
              "<div>\n",
              "<style scoped>\n",
              "    .dataframe tbody tr th:only-of-type {\n",
              "        vertical-align: middle;\n",
              "    }\n",
              "\n",
              "    .dataframe tbody tr th {\n",
              "        vertical-align: top;\n",
              "    }\n",
              "\n",
              "    .dataframe thead th {\n",
              "        text-align: right;\n",
              "    }\n",
              "</style>\n",
              "<table border=\"1\" class=\"dataframe\">\n",
              "  <thead>\n",
              "    <tr style=\"text-align: right;\">\n",
              "      <th></th>\n",
              "      <th>CustomerID</th>\n",
              "      <th>Recency</th>\n",
              "      <th>Frequency</th>\n",
              "      <th>Monetary</th>\n",
              "      <th>r_quartile</th>\n",
              "      <th>f_quartile</th>\n",
              "      <th>m_quartile</th>\n",
              "      <th>RFM_Segement</th>\n",
              "      <th>RFM_Score</th>\n",
              "    </tr>\n",
              "  </thead>\n",
              "  <tbody>\n",
              "    <tr>\n",
              "      <th>0</th>\n",
              "      <td>12346</td>\n",
              "      <td>325</td>\n",
              "      <td>1</td>\n",
              "      <td>77183.60</td>\n",
              "      <td>1</td>\n",
              "      <td>1</td>\n",
              "      <td>4</td>\n",
              "      <td>114</td>\n",
              "      <td>6</td>\n",
              "    </tr>\n",
              "    <tr>\n",
              "      <th>1</th>\n",
              "      <td>12347</td>\n",
              "      <td>2</td>\n",
              "      <td>182</td>\n",
              "      <td>4310.00</td>\n",
              "      <td>4</td>\n",
              "      <td>4</td>\n",
              "      <td>4</td>\n",
              "      <td>444</td>\n",
              "      <td>12</td>\n",
              "    </tr>\n",
              "    <tr>\n",
              "      <th>2</th>\n",
              "      <td>12348</td>\n",
              "      <td>75</td>\n",
              "      <td>31</td>\n",
              "      <td>1797.24</td>\n",
              "      <td>2</td>\n",
              "      <td>2</td>\n",
              "      <td>4</td>\n",
              "      <td>224</td>\n",
              "      <td>8</td>\n",
              "    </tr>\n",
              "    <tr>\n",
              "      <th>3</th>\n",
              "      <td>12349</td>\n",
              "      <td>18</td>\n",
              "      <td>73</td>\n",
              "      <td>1757.55</td>\n",
              "      <td>3</td>\n",
              "      <td>3</td>\n",
              "      <td>4</td>\n",
              "      <td>334</td>\n",
              "      <td>10</td>\n",
              "    </tr>\n",
              "    <tr>\n",
              "      <th>4</th>\n",
              "      <td>12350</td>\n",
              "      <td>310</td>\n",
              "      <td>17</td>\n",
              "      <td>334.40</td>\n",
              "      <td>1</td>\n",
              "      <td>1</td>\n",
              "      <td>2</td>\n",
              "      <td>112</td>\n",
              "      <td>4</td>\n",
              "    </tr>\n",
              "  </tbody>\n",
              "</table>\n",
              "</div>"
            ],
            "text/plain": [
              "   CustomerID  Recency  Frequency  ...  m_quartile  RFM_Segement  RFM_Score\n",
              "0       12346      325          1  ...           4           114          6\n",
              "1       12347        2        182  ...           4           444         12\n",
              "2       12348       75         31  ...           4           224          8\n",
              "3       12349       18         73  ...           4           334         10\n",
              "4       12350      310         17  ...           2           112          4\n",
              "\n",
              "[5 rows x 9 columns]"
            ]
          },
          "metadata": {
            "tags": []
          },
          "execution_count": 42
        }
      ]
    },
    {
      "cell_type": "code",
      "metadata": {
        "colab": {
          "base_uri": "https://localhost:8080/",
          "height": 196
        },
        "id": "byw0INmNTNsH",
        "outputId": "5af0a303-0295-4592-aba1-86be18b0eaf3"
      },
      "source": [
        "segmented_rfm.head()"
      ],
      "execution_count": 43,
      "outputs": [
        {
          "output_type": "execute_result",
          "data": {
            "text/html": [
              "<div>\n",
              "<style scoped>\n",
              "    .dataframe tbody tr th:only-of-type {\n",
              "        vertical-align: middle;\n",
              "    }\n",
              "\n",
              "    .dataframe tbody tr th {\n",
              "        vertical-align: top;\n",
              "    }\n",
              "\n",
              "    .dataframe thead th {\n",
              "        text-align: right;\n",
              "    }\n",
              "</style>\n",
              "<table border=\"1\" class=\"dataframe\">\n",
              "  <thead>\n",
              "    <tr style=\"text-align: right;\">\n",
              "      <th></th>\n",
              "      <th>CustomerID</th>\n",
              "      <th>Recency</th>\n",
              "      <th>Frequency</th>\n",
              "      <th>Monetary</th>\n",
              "      <th>r_quartile</th>\n",
              "      <th>f_quartile</th>\n",
              "      <th>m_quartile</th>\n",
              "      <th>RFM_Segement</th>\n",
              "      <th>RFM_Score</th>\n",
              "    </tr>\n",
              "  </thead>\n",
              "  <tbody>\n",
              "    <tr>\n",
              "      <th>0</th>\n",
              "      <td>12346</td>\n",
              "      <td>325</td>\n",
              "      <td>1</td>\n",
              "      <td>77183.60</td>\n",
              "      <td>1</td>\n",
              "      <td>1</td>\n",
              "      <td>4</td>\n",
              "      <td>114</td>\n",
              "      <td>6</td>\n",
              "    </tr>\n",
              "    <tr>\n",
              "      <th>1</th>\n",
              "      <td>12347</td>\n",
              "      <td>2</td>\n",
              "      <td>182</td>\n",
              "      <td>4310.00</td>\n",
              "      <td>4</td>\n",
              "      <td>4</td>\n",
              "      <td>4</td>\n",
              "      <td>444</td>\n",
              "      <td>12</td>\n",
              "    </tr>\n",
              "    <tr>\n",
              "      <th>2</th>\n",
              "      <td>12348</td>\n",
              "      <td>75</td>\n",
              "      <td>31</td>\n",
              "      <td>1797.24</td>\n",
              "      <td>2</td>\n",
              "      <td>2</td>\n",
              "      <td>4</td>\n",
              "      <td>224</td>\n",
              "      <td>8</td>\n",
              "    </tr>\n",
              "    <tr>\n",
              "      <th>3</th>\n",
              "      <td>12349</td>\n",
              "      <td>18</td>\n",
              "      <td>73</td>\n",
              "      <td>1757.55</td>\n",
              "      <td>3</td>\n",
              "      <td>3</td>\n",
              "      <td>4</td>\n",
              "      <td>334</td>\n",
              "      <td>10</td>\n",
              "    </tr>\n",
              "    <tr>\n",
              "      <th>4</th>\n",
              "      <td>12350</td>\n",
              "      <td>310</td>\n",
              "      <td>17</td>\n",
              "      <td>334.40</td>\n",
              "      <td>1</td>\n",
              "      <td>1</td>\n",
              "      <td>2</td>\n",
              "      <td>112</td>\n",
              "      <td>4</td>\n",
              "    </tr>\n",
              "  </tbody>\n",
              "</table>\n",
              "</div>"
            ],
            "text/plain": [
              "   CustomerID  Recency  Frequency  ...  m_quartile  RFM_Segement  RFM_Score\n",
              "0       12346      325          1  ...           4           114          6\n",
              "1       12347        2        182  ...           4           444         12\n",
              "2       12348       75         31  ...           4           224          8\n",
              "3       12349       18         73  ...           4           334         10\n",
              "4       12350      310         17  ...           2           112          4\n",
              "\n",
              "[5 rows x 9 columns]"
            ]
          },
          "metadata": {
            "tags": []
          },
          "execution_count": 43
        }
      ]
    },
    {
      "cell_type": "code",
      "metadata": {
        "id": "CNfww5tITUh4"
      },
      "source": [
        "data_norm_k4.index = data['CustomerID'].astype(int)"
      ],
      "execution_count": 44,
      "outputs": []
    },
    {
      "cell_type": "code",
      "metadata": {
        "colab": {
          "base_uri": "https://localhost:8080/",
          "height": 226
        },
        "id": "mS5lo_XyJh8Y",
        "outputId": "27fcac96-5c24-47bb-ab2b-6ef25b785163"
      },
      "source": [
        "data_norm_k4.head()"
      ],
      "execution_count": 45,
      "outputs": [
        {
          "output_type": "execute_result",
          "data": {
            "text/html": [
              "<div>\n",
              "<style scoped>\n",
              "    .dataframe tbody tr th:only-of-type {\n",
              "        vertical-align: middle;\n",
              "    }\n",
              "\n",
              "    .dataframe tbody tr th {\n",
              "        vertical-align: top;\n",
              "    }\n",
              "\n",
              "    .dataframe thead th {\n",
              "        text-align: right;\n",
              "    }\n",
              "</style>\n",
              "<table border=\"1\" class=\"dataframe\">\n",
              "  <thead>\n",
              "    <tr style=\"text-align: right;\">\n",
              "      <th></th>\n",
              "      <th>Recency</th>\n",
              "      <th>Frequency</th>\n",
              "      <th>Monetary</th>\n",
              "      <th>Cluster</th>\n",
              "    </tr>\n",
              "    <tr>\n",
              "      <th>CustomerID</th>\n",
              "      <th></th>\n",
              "      <th></th>\n",
              "      <th></th>\n",
              "      <th></th>\n",
              "    </tr>\n",
              "  </thead>\n",
              "  <tbody>\n",
              "    <tr>\n",
              "      <th>12346</th>\n",
              "      <td>5.783825</td>\n",
              "      <td>0.000000</td>\n",
              "      <td>11.253942</td>\n",
              "      <td>1</td>\n",
              "    </tr>\n",
              "    <tr>\n",
              "      <th>12347</th>\n",
              "      <td>0.693147</td>\n",
              "      <td>5.204007</td>\n",
              "      <td>8.368693</td>\n",
              "      <td>3</td>\n",
              "    </tr>\n",
              "    <tr>\n",
              "      <th>12348</th>\n",
              "      <td>4.317488</td>\n",
              "      <td>3.433987</td>\n",
              "      <td>7.494007</td>\n",
              "      <td>1</td>\n",
              "    </tr>\n",
              "    <tr>\n",
              "      <th>12349</th>\n",
              "      <td>2.890372</td>\n",
              "      <td>4.290459</td>\n",
              "      <td>7.471676</td>\n",
              "      <td>1</td>\n",
              "    </tr>\n",
              "    <tr>\n",
              "      <th>12350</th>\n",
              "      <td>5.736572</td>\n",
              "      <td>2.833213</td>\n",
              "      <td>5.812338</td>\n",
              "      <td>0</td>\n",
              "    </tr>\n",
              "  </tbody>\n",
              "</table>\n",
              "</div>"
            ],
            "text/plain": [
              "             Recency  Frequency   Monetary  Cluster\n",
              "CustomerID                                         \n",
              "12346       5.783825   0.000000  11.253942        1\n",
              "12347       0.693147   5.204007   8.368693        3\n",
              "12348       4.317488   3.433987   7.494007        1\n",
              "12349       2.890372   4.290459   7.471676        1\n",
              "12350       5.736572   2.833213   5.812338        0"
            ]
          },
          "metadata": {
            "tags": []
          },
          "execution_count": 45
        }
      ]
    },
    {
      "cell_type": "code",
      "metadata": {
        "id": "sjPrOcaPODJu"
      },
      "source": [
        "#Melt the data into along format so RFM values and metric names are stored in 1 column each\r\n",
        "data_melt = pd.melt(data_norm_k4.reset_index(),\r\n",
        "                    id_vars=['CustomerID', 'Cluster'],\r\n",
        "                    value_vars=['Recency', 'Frequency', 'Monetary'],\r\n",
        "                    var_name='Attribute',\r\n",
        "                    value_name='Value')"
      ],
      "execution_count": 46,
      "outputs": []
    },
    {
      "cell_type": "code",
      "metadata": {
        "colab": {
          "base_uri": "https://localhost:8080/",
          "height": 312
        },
        "id": "cUSuCM5rOG0_",
        "outputId": "1535ea3e-1108-4520-d1ac-e2170164af74"
      },
      "source": [
        "plt.title('Snake plot of standardized variables')\r\n",
        "sns.lineplot(x=\"Attribute\", y=\"Value\", hue='Cluster', data=data_melt)"
      ],
      "execution_count": 47,
      "outputs": [
        {
          "output_type": "execute_result",
          "data": {
            "text/plain": [
              "<matplotlib.axes._subplots.AxesSubplot at 0x7f9f960fa588>"
            ]
          },
          "metadata": {
            "tags": []
          },
          "execution_count": 47
        },
        {
          "output_type": "display_data",
          "data": {
            "image/png": "[encoded data removed]",
            "text/plain": [
              "<Figure size 432x288 with 1 Axes>"
            ]
          },
          "metadata": {
            "tags": [],
            "needs_background": "light"
          }
        }
      ]
    },
    {
      "cell_type": "code",
      "metadata": {
        "colab": {
          "base_uri": "https://localhost:8080/",
          "height": 226
        },
        "id": "FNnngNNrOLnY",
        "outputId": "44d37f99-ab40-446a-8e08-4bbb83f9a2fd"
      },
      "source": [
        "data_k4.index = data['CustomerID'].astype(int)\r\n",
        "data_k4.head()"
      ],
      "execution_count": 48,
      "outputs": [
        {
          "output_type": "execute_result",
          "data": {
            "text/html": [
              "<div>\n",
              "<style scoped>\n",
              "    .dataframe tbody tr th:only-of-type {\n",
              "        vertical-align: middle;\n",
              "    }\n",
              "\n",
              "    .dataframe tbody tr th {\n",
              "        vertical-align: top;\n",
              "    }\n",
              "\n",
              "    .dataframe thead th {\n",
              "        text-align: right;\n",
              "    }\n",
              "</style>\n",
              "<table border=\"1\" class=\"dataframe\">\n",
              "  <thead>\n",
              "    <tr style=\"text-align: right;\">\n",
              "      <th></th>\n",
              "      <th>Recency</th>\n",
              "      <th>Frequency</th>\n",
              "      <th>Monetary</th>\n",
              "      <th>Cluster</th>\n",
              "    </tr>\n",
              "    <tr>\n",
              "      <th>CustomerID</th>\n",
              "      <th></th>\n",
              "      <th></th>\n",
              "      <th></th>\n",
              "      <th></th>\n",
              "    </tr>\n",
              "  </thead>\n",
              "  <tbody>\n",
              "    <tr>\n",
              "      <th>12346</th>\n",
              "      <td>325</td>\n",
              "      <td>1</td>\n",
              "      <td>77183.60</td>\n",
              "      <td>1</td>\n",
              "    </tr>\n",
              "    <tr>\n",
              "      <th>12347</th>\n",
              "      <td>2</td>\n",
              "      <td>182</td>\n",
              "      <td>4310.00</td>\n",
              "      <td>3</td>\n",
              "    </tr>\n",
              "    <tr>\n",
              "      <th>12348</th>\n",
              "      <td>75</td>\n",
              "      <td>31</td>\n",
              "      <td>1797.24</td>\n",
              "      <td>1</td>\n",
              "    </tr>\n",
              "    <tr>\n",
              "      <th>12349</th>\n",
              "      <td>18</td>\n",
              "      <td>73</td>\n",
              "      <td>1757.55</td>\n",
              "      <td>1</td>\n",
              "    </tr>\n",
              "    <tr>\n",
              "      <th>12350</th>\n",
              "      <td>310</td>\n",
              "      <td>17</td>\n",
              "      <td>334.40</td>\n",
              "      <td>0</td>\n",
              "    </tr>\n",
              "  </tbody>\n",
              "</table>\n",
              "</div>"
            ],
            "text/plain": [
              "            Recency  Frequency  Monetary  Cluster\n",
              "CustomerID                                       \n",
              "12346           325          1  77183.60        1\n",
              "12347             2        182   4310.00        3\n",
              "12348            75         31   1797.24        1\n",
              "12349            18         73   1757.55        1\n",
              "12350           310         17    334.40        0"
            ]
          },
          "metadata": {
            "tags": []
          },
          "execution_count": 48
        }
      ]
    },
    {
      "cell_type": "code",
      "metadata": {
        "colab": {
          "base_uri": "https://localhost:8080/",
          "height": 226
        },
        "id": "G6CItffLOWnq",
        "outputId": "dd2cb17b-baf5-46e8-c667-aadc04797186"
      },
      "source": [
        "raw_data.index = data['CustomerID'].astype(int)\r\n",
        "raw_data.head()"
      ],
      "execution_count": 49,
      "outputs": [
        {
          "output_type": "execute_result",
          "data": {
            "text/html": [
              "<div>\n",
              "<style scoped>\n",
              "    .dataframe tbody tr th:only-of-type {\n",
              "        vertical-align: middle;\n",
              "    }\n",
              "\n",
              "    .dataframe tbody tr th {\n",
              "        vertical-align: top;\n",
              "    }\n",
              "\n",
              "    .dataframe thead th {\n",
              "        text-align: right;\n",
              "    }\n",
              "</style>\n",
              "<table border=\"1\" class=\"dataframe\">\n",
              "  <thead>\n",
              "    <tr style=\"text-align: right;\">\n",
              "      <th></th>\n",
              "      <th>Recency</th>\n",
              "      <th>Frequency</th>\n",
              "      <th>Monetary</th>\n",
              "    </tr>\n",
              "    <tr>\n",
              "      <th>CustomerID</th>\n",
              "      <th></th>\n",
              "      <th></th>\n",
              "      <th></th>\n",
              "    </tr>\n",
              "  </thead>\n",
              "  <tbody>\n",
              "    <tr>\n",
              "      <th>12346</th>\n",
              "      <td>325</td>\n",
              "      <td>1</td>\n",
              "      <td>77183.60</td>\n",
              "    </tr>\n",
              "    <tr>\n",
              "      <th>12347</th>\n",
              "      <td>2</td>\n",
              "      <td>182</td>\n",
              "      <td>4310.00</td>\n",
              "    </tr>\n",
              "    <tr>\n",
              "      <th>12348</th>\n",
              "      <td>75</td>\n",
              "      <td>31</td>\n",
              "      <td>1797.24</td>\n",
              "    </tr>\n",
              "    <tr>\n",
              "      <th>12349</th>\n",
              "      <td>18</td>\n",
              "      <td>73</td>\n",
              "      <td>1757.55</td>\n",
              "    </tr>\n",
              "    <tr>\n",
              "      <th>12350</th>\n",
              "      <td>310</td>\n",
              "      <td>17</td>\n",
              "      <td>334.40</td>\n",
              "    </tr>\n",
              "  </tbody>\n",
              "</table>\n",
              "</div>"
            ],
            "text/plain": [
              "            Recency  Frequency  Monetary\n",
              "CustomerID                              \n",
              "12346           325          1  77183.60\n",
              "12347             2        182   4310.00\n",
              "12348            75         31   1797.24\n",
              "12349            18         73   1757.55\n",
              "12350           310         17    334.40"
            ]
          },
          "metadata": {
            "tags": []
          },
          "execution_count": 49
        }
      ]
    },
    {
      "cell_type": "code",
      "metadata": {
        "id": "iwefw1temGKU"
      },
      "source": [
        "cluster_avg = data_k4.groupby(['Cluster']).mean()\r\n",
        "population_avg = raw_data.head().mean()"
      ],
      "execution_count": 50,
      "outputs": []
    },
    {
      "cell_type": "code",
      "metadata": {
        "colab": {
          "base_uri": "https://localhost:8080/",
          "height": 196
        },
        "id": "5OIT8p-OmIV-",
        "outputId": "33aa6343-c81d-4a05-a29d-1d0e2022ecfd"
      },
      "source": [
        "cluster_avg"
      ],
      "execution_count": 51,
      "outputs": [
        {
          "output_type": "execute_result",
          "data": {
            "text/html": [
              "<div>\n",
              "<style scoped>\n",
              "    .dataframe tbody tr th:only-of-type {\n",
              "        vertical-align: middle;\n",
              "    }\n",
              "\n",
              "    .dataframe tbody tr th {\n",
              "        vertical-align: top;\n",
              "    }\n",
              "\n",
              "    .dataframe thead th {\n",
              "        text-align: right;\n",
              "    }\n",
              "</style>\n",
              "<table border=\"1\" class=\"dataframe\">\n",
              "  <thead>\n",
              "    <tr style=\"text-align: right;\">\n",
              "      <th></th>\n",
              "      <th>Recency</th>\n",
              "      <th>Frequency</th>\n",
              "      <th>Monetary</th>\n",
              "    </tr>\n",
              "    <tr>\n",
              "      <th>Cluster</th>\n",
              "      <th></th>\n",
              "      <th></th>\n",
              "      <th></th>\n",
              "    </tr>\n",
              "  </thead>\n",
              "  <tbody>\n",
              "    <tr>\n",
              "      <th>0</th>\n",
              "      <td>199.379969</td>\n",
              "      <td>15.883028</td>\n",
              "      <td>318.667944</td>\n",
              "    </tr>\n",
              "    <tr>\n",
              "      <th>1</th>\n",
              "      <td>82.515242</td>\n",
              "      <td>88.498141</td>\n",
              "      <td>1616.146054</td>\n",
              "    </tr>\n",
              "    <tr>\n",
              "      <th>2</th>\n",
              "      <td>23.853086</td>\n",
              "      <td>29.071605</td>\n",
              "      <td>466.504765</td>\n",
              "    </tr>\n",
              "    <tr>\n",
              "      <th>3</th>\n",
              "      <td>9.834524</td>\n",
              "      <td>262.984524</td>\n",
              "      <td>6205.031810</td>\n",
              "    </tr>\n",
              "  </tbody>\n",
              "</table>\n",
              "</div>"
            ],
            "text/plain": [
              "            Recency   Frequency     Monetary\n",
              "Cluster                                     \n",
              "0        199.379969   15.883028   318.667944\n",
              "1         82.515242   88.498141  1616.146054\n",
              "2         23.853086   29.071605   466.504765\n",
              "3          9.834524  262.984524  6205.031810"
            ]
          },
          "metadata": {
            "tags": []
          },
          "execution_count": 51
        }
      ]
    },
    {
      "cell_type": "code",
      "metadata": {
        "colab": {
          "base_uri": "https://localhost:8080/"
        },
        "id": "3caiXf3ZmJ9t",
        "outputId": "7b1154ab-0f08-45d5-99e1-347ef8f657b5"
      },
      "source": [
        "population_avg"
      ],
      "execution_count": 52,
      "outputs": [
        {
          "output_type": "execute_result",
          "data": {
            "text/plain": [
              "Recency        146.000\n",
              "Frequency       60.800\n",
              "Monetary     17076.558\n",
              "dtype: float64"
            ]
          },
          "metadata": {
            "tags": []
          },
          "execution_count": 52
        }
      ]
    },
    {
      "cell_type": "code",
      "metadata": {
        "colab": {
          "base_uri": "https://localhost:8080/",
          "height": 196
        },
        "id": "sBuDjL_DmLsl",
        "outputId": "261cf123-fd72-4d1c-c499-bf5d4a05699e"
      },
      "source": [
        "relative_imp = cluster_avg / population_avg - 1\r\n",
        "relative_imp.round(2)"
      ],
      "execution_count": 53,
      "outputs": [
        {
          "output_type": "execute_result",
          "data": {
            "text/html": [
              "<div>\n",
              "<style scoped>\n",
              "    .dataframe tbody tr th:only-of-type {\n",
              "        vertical-align: middle;\n",
              "    }\n",
              "\n",
              "    .dataframe tbody tr th {\n",
              "        vertical-align: top;\n",
              "    }\n",
              "\n",
              "    .dataframe thead th {\n",
              "        text-align: right;\n",
              "    }\n",
              "</style>\n",
              "<table border=\"1\" class=\"dataframe\">\n",
              "  <thead>\n",
              "    <tr style=\"text-align: right;\">\n",
              "      <th></th>\n",
              "      <th>Recency</th>\n",
              "      <th>Frequency</th>\n",
              "      <th>Monetary</th>\n",
              "    </tr>\n",
              "    <tr>\n",
              "      <th>Cluster</th>\n",
              "      <th></th>\n",
              "      <th></th>\n",
              "      <th></th>\n",
              "    </tr>\n",
              "  </thead>\n",
              "  <tbody>\n",
              "    <tr>\n",
              "      <th>0</th>\n",
              "      <td>0.37</td>\n",
              "      <td>-0.74</td>\n",
              "      <td>-0.98</td>\n",
              "    </tr>\n",
              "    <tr>\n",
              "      <th>1</th>\n",
              "      <td>-0.43</td>\n",
              "      <td>0.46</td>\n",
              "      <td>-0.91</td>\n",
              "    </tr>\n",
              "    <tr>\n",
              "      <th>2</th>\n",
              "      <td>-0.84</td>\n",
              "      <td>-0.52</td>\n",
              "      <td>-0.97</td>\n",
              "    </tr>\n",
              "    <tr>\n",
              "      <th>3</th>\n",
              "      <td>-0.93</td>\n",
              "      <td>3.33</td>\n",
              "      <td>-0.64</td>\n",
              "    </tr>\n",
              "  </tbody>\n",
              "</table>\n",
              "</div>"
            ],
            "text/plain": [
              "         Recency  Frequency  Monetary\n",
              "Cluster                              \n",
              "0           0.37      -0.74     -0.98\n",
              "1          -0.43       0.46     -0.91\n",
              "2          -0.84      -0.52     -0.97\n",
              "3          -0.93       3.33     -0.64"
            ]
          },
          "metadata": {
            "tags": []
          },
          "execution_count": 53
        }
      ]
    },
    {
      "cell_type": "code",
      "metadata": {
        "colab": {
          "base_uri": "https://localhost:8080/",
          "height": 281
        },
        "id": "7dZmChfqmNuo",
        "outputId": "62e4bb98-7746-43ac-9fc6-4d4da618f1f7"
      },
      "source": [
        "# Plot heatmap\r\n",
        "plt.figure(figsize=(8, 4))\r\n",
        "plt.title('Relative importance of attributes')\r\n",
        "sns.heatmap(data=relative_imp, annot=True, fmt='.2f', cmap='RdYlGn')\r\n",
        "plt.show()"
      ],
      "execution_count": 54,
      "outputs": [
        {
          "output_type": "display_data",
          "data": {
            "image/png": "[encoded data removed]",
            "text/plain": [
              "<Figure size 576x288 with 2 Axes>"
            ]
          },
          "metadata": {
            "tags": [],
            "needs_background": "light"
          }
        }
      ]
    },
    {
      "cell_type": "code",
      "metadata": {
        "id": "6U_mqg9AmPNr"
      },
      "source": [
        ""
      ],
      "execution_count": null,
      "outputs": []
    }
  ]
}